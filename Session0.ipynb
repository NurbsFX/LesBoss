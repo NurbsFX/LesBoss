{
  "nbformat": 4,
  "nbformat_minor": 0,
  "metadata": {
    "colab": {
      "name": "WorkshopMLAI-XITE-2021-Session0.ipynb",
      "provenance": []
    },
    "kernelspec": {
      "name": "python3",
      "display_name": "Python 3"
    },
    "language_info": {
      "name": "python"
    }
  },
  "cells": [
    {
      "cell_type": "markdown",
      "metadata": {
        "id": "iOusI5zRWWiM"
      },
      "source": [
        "# Introductory Session\n",
        "**Introduction to Machine / Deep / Reinforcement Learning Workshop**\n",
        "Master X-ITE\n",
        "\n",
        "Author: Jérémie Jakubowicz"
      ]
    },
    {
      "cell_type": "markdown",
      "metadata": {
        "id": "xOZistfcW0lQ"
      },
      "source": [
        "## Data"
      ]
    },
    {
      "cell_type": "code",
      "source": [
        "!pip install --upgrade xlrd"
      ],
      "metadata": {
        "id": "-OgB1qaDI42J",
        "outputId": "159772a8-d476-4e12-f94e-5dd93c4c18c6",
        "colab": {
          "base_uri": "https://localhost:8080/"
        }
      },
      "execution_count": 1,
      "outputs": [
        {
          "output_type": "stream",
          "name": "stdout",
          "text": [
            "Looking in indexes: https://pypi.org/simple, https://us-python.pkg.dev/colab-wheels/public/simple/\n",
            "Requirement already satisfied: xlrd in /usr/local/lib/python3.7/dist-packages (2.0.1)\n"
          ]
        }
      ]
    },
    {
      "cell_type": "markdown",
      "metadata": {
        "id": "w4DQwpR7W1-F"
      },
      "source": [
        "After signing in at [kaggle.com](https://kaggle.com), let us download a json file named `kaggle.json` containing our credentials by clicking\n",
        "\n",
        "My Account > Create new API token\n",
        "\n",
        "as shown in the image below:"
      ]
    },
    {
      "cell_type": "markdown",
      "metadata": {
        "id": "IqFWS5ARW55n"
      },
      "source": [
        "![screenshot from Ankush Choubey medium blog post](https://miro.medium.com/max/2000/1*9c2c7mpf_nj9px8aYNop4g.png)"
      ]
    },
    {
      "cell_type": "markdown",
      "metadata": {
        "id": "Cl289T5YW9kh"
      },
      "source": [
        "Then, let's upload this file in `colab`, as shown in the images below:"
      ]
    },
    {
      "cell_type": "markdown",
      "metadata": {
        "id": "oFNVo5iGXDiO"
      },
      "source": [
        "<img src=\"https://cartan.int-evry.fr/Screenshots/ColabSelectFile.png\" alt=\"File Tab\" width=340px height=200px style=\"align:left;\"/>\n",
        "<img src=\"https://cartan.int-evry.fr/Screenshots/ColabImportFile.png\" alt=\"Import File\" width=380px height=200px style=\"align:center;\"/>\n",
        "<img src=\"https://cartan.int-evry.fr/Screenshots/ImportKaggleJson.png\" alt=\"Import File\" width=280px height=200px style=\"align:right;\"/>"
      ]
    },
    {
      "cell_type": "markdown",
      "metadata": {
        "id": "YzkNRfP7XM99"
      },
      "source": [
        "and move it to a hidden directory `.kaggle` on the notebook server, changing filesystem permissions so that other users than its owner cannot access it, using the bash lines below:"
      ]
    },
    {
      "cell_type": "code",
      "metadata": {
        "id": "5kXe8rgPXZ3a"
      },
      "source": [
        "%%bash\n",
        "if ! [ -d ~/.kaggle ]; then\n",
        "    mkdir ~/.kaggle\n",
        "fi\n",
        "if ! [ -f ~/.kaggle/kaggle.json ]; then\n",
        "    mv kaggle.json ~/.kaggle/\n",
        "    chmod 600 ~/.kaggle/kaggle.json\n",
        "fi"
      ],
      "execution_count": 2,
      "outputs": []
    },
    {
      "cell_type": "markdown",
      "metadata": {
        "id": "ffmAy7DeXdiR"
      },
      "source": [
        "Then you need to connect to https://www.kaggle.com/c/givemesomecredit/rules and accept the terms of the competition\n",
        "\n",
        "<img src='https://cartan.int-evry.fr/Screenshots/CompetitionTerms.png' alt='Competition Terms'/>"
      ]
    },
    {
      "cell_type": "code",
      "metadata": {
        "colab": {
          "base_uri": "https://localhost:8080/"
        },
        "id": "fQRoXN4fXhCc",
        "outputId": "d99f453e-af4e-4926-ddb2-ed3758d4fd40"
      },
      "source": [
        "!kaggle competitions download GiveMeSomeCredit"
      ],
      "execution_count": 3,
      "outputs": [
        {
          "output_type": "stream",
          "name": "stdout",
          "text": [
            "Downloading GiveMeSomeCredit.zip to /content\n",
            "\r  0% 0.00/5.16M [00:00<?, ?B/s]\n",
            "\r100% 5.16M/5.16M [00:00<00:00, 131MB/s]\n"
          ]
        }
      ]
    },
    {
      "cell_type": "markdown",
      "metadata": {
        "id": "J2y4NZMTXu-_"
      },
      "source": [
        "Let's check that files `cs-test.csv` and `cs-training.csv` correponding respectively to test and training set -- concepts to be discussed later -- are indeed well downloaded, after quietly (option `-q`) unzipping them, and removing zip archives:"
      ]
    },
    {
      "cell_type": "code",
      "metadata": {
        "id": "_8hHBfSIXyUD",
        "colab": {
          "base_uri": "https://localhost:8080/"
        },
        "outputId": "2b7971fd-0900-4706-8db8-50e67e1c4345"
      },
      "source": [
        "%%bash\n",
        "unzip -q \\*.zip; rm *.zip\n",
        "mv Data\\ Dictionary.xls DataDictionary.xls\n",
        "ls"
      ],
      "execution_count": 4,
      "outputs": [
        {
          "output_type": "stream",
          "name": "stdout",
          "text": [
            "cs-test.csv\n",
            "cs-training.csv\n",
            "DataDictionary.xls\n",
            "kaggle.json\n",
            "sample_data\n",
            "sampleEntry.csv\n"
          ]
        }
      ]
    },
    {
      "cell_type": "markdown",
      "metadata": {
        "id": "121QyzGLX5De"
      },
      "source": [
        "## Discovering the data\n"
      ]
    },
    {
      "cell_type": "code",
      "metadata": {
        "id": "geoeipGwY4q9"
      },
      "source": [
        "%matplotlib inline\n",
        "import os\n",
        "import warnings\n",
        "warnings.filterwarnings('ignore')"
      ],
      "execution_count": 27,
      "outputs": []
    },
    {
      "cell_type": "code",
      "metadata": {
        "colab": {
          "base_uri": "https://localhost:8080/",
          "height": 556
        },
        "id": "NTRcJWQmZZ8d",
        "outputId": "9a84a178-cb80-404e-ce08-d075e7f0ad09"
      },
      "source": [
        "import pandas as pd\n",
        "pd.set_option('display.max_colwidth', -1)\n",
        "\n",
        "datapath = \".\"\n",
        "dictionary = \"DataDictionary.xls\"\n",
        "datadictf = os.path.join(datapath, dictionary)\n",
        "pd.ExcelFile(datadictf).parse('Sheet1')"
      ],
      "execution_count": 6,
      "outputs": [
        {
          "output_type": "execute_result",
          "data": {
            "text/plain": [
              "                              Unnamed: 0  \\\n",
              "0   Variable Name                          \n",
              "1   SeriousDlqin2yrs                       \n",
              "2   RevolvingUtilizationOfUnsecuredLines   \n",
              "3   age                                    \n",
              "4   NumberOfTime30-59DaysPastDueNotWorse   \n",
              "5   DebtRatio                              \n",
              "6   MonthlyIncome                          \n",
              "7   NumberOfOpenCreditLinesAndLoans        \n",
              "8   NumberOfTimes90DaysLate                \n",
              "9   NumberRealEstateLoansOrLines           \n",
              "10  NumberOfTime60-89DaysPastDueNotWorse   \n",
              "11  NumberOfDependents                     \n",
              "\n",
              "                                                                                                                                                  Unnamed: 1  \\\n",
              "0   Description                                                                                                                                                \n",
              "1   Person experienced 90 days past due delinquency or worse                                                                                                   \n",
              "2   Total balance on credit cards and personal lines of credit except real estate and no installment debt like car loans divided by the sum of credit limits   \n",
              "3   Age of borrower in years                                                                                                                                   \n",
              "4   Number of times borrower has been 30-59 days past due but no worse in the last 2 years.                                                                    \n",
              "5   Monthly debt payments, alimony,living costs divided by monthy gross income                                                                                 \n",
              "6   Monthly income                                                                                                                                             \n",
              "7   Number of Open loans (installment like car loan or mortgage) and Lines of credit (e.g. credit cards)                                                       \n",
              "8   Number of times borrower has been 90 days or more past due.                                                                                                \n",
              "9   Number of mortgage and real estate loans including home equity lines of credit                                                                             \n",
              "10  Number of times borrower has been 60-89 days past due but no worse in the last 2 years.                                                                    \n",
              "11  Number of dependents in family excluding themselves (spouse, children etc.)                                                                                \n",
              "\n",
              "    Unnamed: 2  \n",
              "0   Type        \n",
              "1   Y/N         \n",
              "2   percentage  \n",
              "3   integer     \n",
              "4   integer     \n",
              "5   percentage  \n",
              "6   real        \n",
              "7   integer     \n",
              "8   integer     \n",
              "9   integer     \n",
              "10  integer     \n",
              "11  integer     "
            ],
            "text/html": [
              "\n",
              "  <div id=\"df-67081fff-f9dc-4c57-bee5-cee0510d537d\">\n",
              "    <div class=\"colab-df-container\">\n",
              "      <div>\n",
              "<style scoped>\n",
              "    .dataframe tbody tr th:only-of-type {\n",
              "        vertical-align: middle;\n",
              "    }\n",
              "\n",
              "    .dataframe tbody tr th {\n",
              "        vertical-align: top;\n",
              "    }\n",
              "\n",
              "    .dataframe thead th {\n",
              "        text-align: right;\n",
              "    }\n",
              "</style>\n",
              "<table border=\"1\" class=\"dataframe\">\n",
              "  <thead>\n",
              "    <tr style=\"text-align: right;\">\n",
              "      <th></th>\n",
              "      <th>Unnamed: 0</th>\n",
              "      <th>Unnamed: 1</th>\n",
              "      <th>Unnamed: 2</th>\n",
              "    </tr>\n",
              "  </thead>\n",
              "  <tbody>\n",
              "    <tr>\n",
              "      <th>0</th>\n",
              "      <td>Variable Name</td>\n",
              "      <td>Description</td>\n",
              "      <td>Type</td>\n",
              "    </tr>\n",
              "    <tr>\n",
              "      <th>1</th>\n",
              "      <td>SeriousDlqin2yrs</td>\n",
              "      <td>Person experienced 90 days past due delinquency or worse</td>\n",
              "      <td>Y/N</td>\n",
              "    </tr>\n",
              "    <tr>\n",
              "      <th>2</th>\n",
              "      <td>RevolvingUtilizationOfUnsecuredLines</td>\n",
              "      <td>Total balance on credit cards and personal lines of credit except real estate and no installment debt like car loans divided by the sum of credit limits</td>\n",
              "      <td>percentage</td>\n",
              "    </tr>\n",
              "    <tr>\n",
              "      <th>3</th>\n",
              "      <td>age</td>\n",
              "      <td>Age of borrower in years</td>\n",
              "      <td>integer</td>\n",
              "    </tr>\n",
              "    <tr>\n",
              "      <th>4</th>\n",
              "      <td>NumberOfTime30-59DaysPastDueNotWorse</td>\n",
              "      <td>Number of times borrower has been 30-59 days past due but no worse in the last 2 years.</td>\n",
              "      <td>integer</td>\n",
              "    </tr>\n",
              "    <tr>\n",
              "      <th>5</th>\n",
              "      <td>DebtRatio</td>\n",
              "      <td>Monthly debt payments, alimony,living costs divided by monthy gross income</td>\n",
              "      <td>percentage</td>\n",
              "    </tr>\n",
              "    <tr>\n",
              "      <th>6</th>\n",
              "      <td>MonthlyIncome</td>\n",
              "      <td>Monthly income</td>\n",
              "      <td>real</td>\n",
              "    </tr>\n",
              "    <tr>\n",
              "      <th>7</th>\n",
              "      <td>NumberOfOpenCreditLinesAndLoans</td>\n",
              "      <td>Number of Open loans (installment like car loan or mortgage) and Lines of credit (e.g. credit cards)</td>\n",
              "      <td>integer</td>\n",
              "    </tr>\n",
              "    <tr>\n",
              "      <th>8</th>\n",
              "      <td>NumberOfTimes90DaysLate</td>\n",
              "      <td>Number of times borrower has been 90 days or more past due.</td>\n",
              "      <td>integer</td>\n",
              "    </tr>\n",
              "    <tr>\n",
              "      <th>9</th>\n",
              "      <td>NumberRealEstateLoansOrLines</td>\n",
              "      <td>Number of mortgage and real estate loans including home equity lines of credit</td>\n",
              "      <td>integer</td>\n",
              "    </tr>\n",
              "    <tr>\n",
              "      <th>10</th>\n",
              "      <td>NumberOfTime60-89DaysPastDueNotWorse</td>\n",
              "      <td>Number of times borrower has been 60-89 days past due but no worse in the last 2 years.</td>\n",
              "      <td>integer</td>\n",
              "    </tr>\n",
              "    <tr>\n",
              "      <th>11</th>\n",
              "      <td>NumberOfDependents</td>\n",
              "      <td>Number of dependents in family excluding themselves (spouse, children etc.)</td>\n",
              "      <td>integer</td>\n",
              "    </tr>\n",
              "  </tbody>\n",
              "</table>\n",
              "</div>\n",
              "      <button class=\"colab-df-convert\" onclick=\"convertToInteractive('df-67081fff-f9dc-4c57-bee5-cee0510d537d')\"\n",
              "              title=\"Convert this dataframe to an interactive table.\"\n",
              "              style=\"display:none;\">\n",
              "        \n",
              "  <svg xmlns=\"http://www.w3.org/2000/svg\" height=\"24px\"viewBox=\"0 0 24 24\"\n",
              "       width=\"24px\">\n",
              "    <path d=\"M0 0h24v24H0V0z\" fill=\"none\"/>\n",
              "    <path d=\"M18.56 5.44l.94 2.06.94-2.06 2.06-.94-2.06-.94-.94-2.06-.94 2.06-2.06.94zm-11 1L8.5 8.5l.94-2.06 2.06-.94-2.06-.94L8.5 2.5l-.94 2.06-2.06.94zm10 10l.94 2.06.94-2.06 2.06-.94-2.06-.94-.94-2.06-.94 2.06-2.06.94z\"/><path d=\"M17.41 7.96l-1.37-1.37c-.4-.4-.92-.59-1.43-.59-.52 0-1.04.2-1.43.59L10.3 9.45l-7.72 7.72c-.78.78-.78 2.05 0 2.83L4 21.41c.39.39.9.59 1.41.59.51 0 1.02-.2 1.41-.59l7.78-7.78 2.81-2.81c.8-.78.8-2.07 0-2.86zM5.41 20L4 18.59l7.72-7.72 1.47 1.35L5.41 20z\"/>\n",
              "  </svg>\n",
              "      </button>\n",
              "      \n",
              "  <style>\n",
              "    .colab-df-container {\n",
              "      display:flex;\n",
              "      flex-wrap:wrap;\n",
              "      gap: 12px;\n",
              "    }\n",
              "\n",
              "    .colab-df-convert {\n",
              "      background-color: #E8F0FE;\n",
              "      border: none;\n",
              "      border-radius: 50%;\n",
              "      cursor: pointer;\n",
              "      display: none;\n",
              "      fill: #1967D2;\n",
              "      height: 32px;\n",
              "      padding: 0 0 0 0;\n",
              "      width: 32px;\n",
              "    }\n",
              "\n",
              "    .colab-df-convert:hover {\n",
              "      background-color: #E2EBFA;\n",
              "      box-shadow: 0px 1px 2px rgba(60, 64, 67, 0.3), 0px 1px 3px 1px rgba(60, 64, 67, 0.15);\n",
              "      fill: #174EA6;\n",
              "    }\n",
              "\n",
              "    [theme=dark] .colab-df-convert {\n",
              "      background-color: #3B4455;\n",
              "      fill: #D2E3FC;\n",
              "    }\n",
              "\n",
              "    [theme=dark] .colab-df-convert:hover {\n",
              "      background-color: #434B5C;\n",
              "      box-shadow: 0px 1px 3px 1px rgba(0, 0, 0, 0.15);\n",
              "      filter: drop-shadow(0px 1px 2px rgba(0, 0, 0, 0.3));\n",
              "      fill: #FFFFFF;\n",
              "    }\n",
              "  </style>\n",
              "\n",
              "      <script>\n",
              "        const buttonEl =\n",
              "          document.querySelector('#df-67081fff-f9dc-4c57-bee5-cee0510d537d button.colab-df-convert');\n",
              "        buttonEl.style.display =\n",
              "          google.colab.kernel.accessAllowed ? 'block' : 'none';\n",
              "\n",
              "        async function convertToInteractive(key) {\n",
              "          const element = document.querySelector('#df-67081fff-f9dc-4c57-bee5-cee0510d537d');\n",
              "          const dataTable =\n",
              "            await google.colab.kernel.invokeFunction('convertToInteractive',\n",
              "                                                     [key], {});\n",
              "          if (!dataTable) return;\n",
              "\n",
              "          const docLinkHtml = 'Like what you see? Visit the ' +\n",
              "            '<a target=\"_blank\" href=https://colab.research.google.com/notebooks/data_table.ipynb>data table notebook</a>'\n",
              "            + ' to learn more about interactive tables.';\n",
              "          element.innerHTML = '';\n",
              "          dataTable['output_type'] = 'display_data';\n",
              "          await google.colab.output.renderOutput(dataTable, element);\n",
              "          const docLink = document.createElement('div');\n",
              "          docLink.innerHTML = docLinkHtml;\n",
              "          element.appendChild(docLink);\n",
              "        }\n",
              "      </script>\n",
              "    </div>\n",
              "  </div>\n",
              "  "
            ]
          },
          "metadata": {},
          "execution_count": 6
        }
      ]
    },
    {
      "cell_type": "code",
      "metadata": {
        "colab": {
          "base_uri": "https://localhost:8080/",
          "height": 505
        },
        "id": "FmiX7mC6Zcgk",
        "outputId": "cd17050a-b7ca-4ad6-bf9d-be30a93d63e8"
      },
      "source": [
        "trainf = \"cs-training.csv\"\n",
        "dataf = os.path.join(datapath, trainf)\n",
        "\n",
        "pd.read_csv(dataf)"
      ],
      "execution_count": 7,
      "outputs": [
        {
          "output_type": "execute_result",
          "data": {
            "text/plain": [
              "        Unnamed: 0  SeriousDlqin2yrs  RevolvingUtilizationOfUnsecuredLines  \\\n",
              "0       1           1                 0.766127                               \n",
              "1       2           0                 0.957151                               \n",
              "2       3           0                 0.658180                               \n",
              "3       4           0                 0.233810                               \n",
              "4       5           0                 0.907239                               \n",
              "...    ..          ..                      ...                               \n",
              "149995  149996      0                 0.040674                               \n",
              "149996  149997      0                 0.299745                               \n",
              "149997  149998      0                 0.246044                               \n",
              "149998  149999      0                 0.000000                               \n",
              "149999  150000      0                 0.850283                               \n",
              "\n",
              "        age  NumberOfTime30-59DaysPastDueNotWorse    DebtRatio  MonthlyIncome  \\\n",
              "0       45   2                                     0.802982     9120.0          \n",
              "1       40   0                                     0.121876     2600.0          \n",
              "2       38   1                                     0.085113     3042.0          \n",
              "3       30   0                                     0.036050     3300.0          \n",
              "4       49   1                                     0.024926     63588.0         \n",
              "...     ..  ..                                          ...         ...         \n",
              "149995  74   0                                     0.225131     2100.0          \n",
              "149996  44   0                                     0.716562     5584.0          \n",
              "149997  58   0                                     3870.000000 NaN              \n",
              "149998  30   0                                     0.000000     5716.0          \n",
              "149999  64   0                                     0.249908     8158.0          \n",
              "\n",
              "        NumberOfOpenCreditLinesAndLoans  NumberOfTimes90DaysLate  \\\n",
              "0       13                               0                         \n",
              "1       4                                0                         \n",
              "2       2                                1                         \n",
              "3       5                                0                         \n",
              "4       7                                0                         \n",
              "...    ..                               ..                         \n",
              "149995  4                                0                         \n",
              "149996  4                                0                         \n",
              "149997  18                               0                         \n",
              "149998  4                                0                         \n",
              "149999  8                                0                         \n",
              "\n",
              "        NumberRealEstateLoansOrLines  NumberOfTime60-89DaysPastDueNotWorse  \\\n",
              "0       6                             0                                      \n",
              "1       0                             0                                      \n",
              "2       0                             0                                      \n",
              "3       0                             0                                      \n",
              "4       1                             0                                      \n",
              "...    ..                            ..                                      \n",
              "149995  1                             0                                      \n",
              "149996  1                             0                                      \n",
              "149997  1                             0                                      \n",
              "149998  0                             0                                      \n",
              "149999  2                             0                                      \n",
              "\n",
              "        NumberOfDependents  \n",
              "0       2.0                 \n",
              "1       1.0                 \n",
              "2       0.0                 \n",
              "3       0.0                 \n",
              "4       0.0                 \n",
              "...     ...                 \n",
              "149995  0.0                 \n",
              "149996  2.0                 \n",
              "149997  0.0                 \n",
              "149998  0.0                 \n",
              "149999  0.0                 \n",
              "\n",
              "[150000 rows x 12 columns]"
            ],
            "text/html": [
              "\n",
              "  <div id=\"df-a31cb610-ec18-4961-b3a2-d5af24a4ed26\">\n",
              "    <div class=\"colab-df-container\">\n",
              "      <div>\n",
              "<style scoped>\n",
              "    .dataframe tbody tr th:only-of-type {\n",
              "        vertical-align: middle;\n",
              "    }\n",
              "\n",
              "    .dataframe tbody tr th {\n",
              "        vertical-align: top;\n",
              "    }\n",
              "\n",
              "    .dataframe thead th {\n",
              "        text-align: right;\n",
              "    }\n",
              "</style>\n",
              "<table border=\"1\" class=\"dataframe\">\n",
              "  <thead>\n",
              "    <tr style=\"text-align: right;\">\n",
              "      <th></th>\n",
              "      <th>Unnamed: 0</th>\n",
              "      <th>SeriousDlqin2yrs</th>\n",
              "      <th>RevolvingUtilizationOfUnsecuredLines</th>\n",
              "      <th>age</th>\n",
              "      <th>NumberOfTime30-59DaysPastDueNotWorse</th>\n",
              "      <th>DebtRatio</th>\n",
              "      <th>MonthlyIncome</th>\n",
              "      <th>NumberOfOpenCreditLinesAndLoans</th>\n",
              "      <th>NumberOfTimes90DaysLate</th>\n",
              "      <th>NumberRealEstateLoansOrLines</th>\n",
              "      <th>NumberOfTime60-89DaysPastDueNotWorse</th>\n",
              "      <th>NumberOfDependents</th>\n",
              "    </tr>\n",
              "  </thead>\n",
              "  <tbody>\n",
              "    <tr>\n",
              "      <th>0</th>\n",
              "      <td>1</td>\n",
              "      <td>1</td>\n",
              "      <td>0.766127</td>\n",
              "      <td>45</td>\n",
              "      <td>2</td>\n",
              "      <td>0.802982</td>\n",
              "      <td>9120.0</td>\n",
              "      <td>13</td>\n",
              "      <td>0</td>\n",
              "      <td>6</td>\n",
              "      <td>0</td>\n",
              "      <td>2.0</td>\n",
              "    </tr>\n",
              "    <tr>\n",
              "      <th>1</th>\n",
              "      <td>2</td>\n",
              "      <td>0</td>\n",
              "      <td>0.957151</td>\n",
              "      <td>40</td>\n",
              "      <td>0</td>\n",
              "      <td>0.121876</td>\n",
              "      <td>2600.0</td>\n",
              "      <td>4</td>\n",
              "      <td>0</td>\n",
              "      <td>0</td>\n",
              "      <td>0</td>\n",
              "      <td>1.0</td>\n",
              "    </tr>\n",
              "    <tr>\n",
              "      <th>2</th>\n",
              "      <td>3</td>\n",
              "      <td>0</td>\n",
              "      <td>0.658180</td>\n",
              "      <td>38</td>\n",
              "      <td>1</td>\n",
              "      <td>0.085113</td>\n",
              "      <td>3042.0</td>\n",
              "      <td>2</td>\n",
              "      <td>1</td>\n",
              "      <td>0</td>\n",
              "      <td>0</td>\n",
              "      <td>0.0</td>\n",
              "    </tr>\n",
              "    <tr>\n",
              "      <th>3</th>\n",
              "      <td>4</td>\n",
              "      <td>0</td>\n",
              "      <td>0.233810</td>\n",
              "      <td>30</td>\n",
              "      <td>0</td>\n",
              "      <td>0.036050</td>\n",
              "      <td>3300.0</td>\n",
              "      <td>5</td>\n",
              "      <td>0</td>\n",
              "      <td>0</td>\n",
              "      <td>0</td>\n",
              "      <td>0.0</td>\n",
              "    </tr>\n",
              "    <tr>\n",
              "      <th>4</th>\n",
              "      <td>5</td>\n",
              "      <td>0</td>\n",
              "      <td>0.907239</td>\n",
              "      <td>49</td>\n",
              "      <td>1</td>\n",
              "      <td>0.024926</td>\n",
              "      <td>63588.0</td>\n",
              "      <td>7</td>\n",
              "      <td>0</td>\n",
              "      <td>1</td>\n",
              "      <td>0</td>\n",
              "      <td>0.0</td>\n",
              "    </tr>\n",
              "    <tr>\n",
              "      <th>...</th>\n",
              "      <td>...</td>\n",
              "      <td>...</td>\n",
              "      <td>...</td>\n",
              "      <td>...</td>\n",
              "      <td>...</td>\n",
              "      <td>...</td>\n",
              "      <td>...</td>\n",
              "      <td>...</td>\n",
              "      <td>...</td>\n",
              "      <td>...</td>\n",
              "      <td>...</td>\n",
              "      <td>...</td>\n",
              "    </tr>\n",
              "    <tr>\n",
              "      <th>149995</th>\n",
              "      <td>149996</td>\n",
              "      <td>0</td>\n",
              "      <td>0.040674</td>\n",
              "      <td>74</td>\n",
              "      <td>0</td>\n",
              "      <td>0.225131</td>\n",
              "      <td>2100.0</td>\n",
              "      <td>4</td>\n",
              "      <td>0</td>\n",
              "      <td>1</td>\n",
              "      <td>0</td>\n",
              "      <td>0.0</td>\n",
              "    </tr>\n",
              "    <tr>\n",
              "      <th>149996</th>\n",
              "      <td>149997</td>\n",
              "      <td>0</td>\n",
              "      <td>0.299745</td>\n",
              "      <td>44</td>\n",
              "      <td>0</td>\n",
              "      <td>0.716562</td>\n",
              "      <td>5584.0</td>\n",
              "      <td>4</td>\n",
              "      <td>0</td>\n",
              "      <td>1</td>\n",
              "      <td>0</td>\n",
              "      <td>2.0</td>\n",
              "    </tr>\n",
              "    <tr>\n",
              "      <th>149997</th>\n",
              "      <td>149998</td>\n",
              "      <td>0</td>\n",
              "      <td>0.246044</td>\n",
              "      <td>58</td>\n",
              "      <td>0</td>\n",
              "      <td>3870.000000</td>\n",
              "      <td>NaN</td>\n",
              "      <td>18</td>\n",
              "      <td>0</td>\n",
              "      <td>1</td>\n",
              "      <td>0</td>\n",
              "      <td>0.0</td>\n",
              "    </tr>\n",
              "    <tr>\n",
              "      <th>149998</th>\n",
              "      <td>149999</td>\n",
              "      <td>0</td>\n",
              "      <td>0.000000</td>\n",
              "      <td>30</td>\n",
              "      <td>0</td>\n",
              "      <td>0.000000</td>\n",
              "      <td>5716.0</td>\n",
              "      <td>4</td>\n",
              "      <td>0</td>\n",
              "      <td>0</td>\n",
              "      <td>0</td>\n",
              "      <td>0.0</td>\n",
              "    </tr>\n",
              "    <tr>\n",
              "      <th>149999</th>\n",
              "      <td>150000</td>\n",
              "      <td>0</td>\n",
              "      <td>0.850283</td>\n",
              "      <td>64</td>\n",
              "      <td>0</td>\n",
              "      <td>0.249908</td>\n",
              "      <td>8158.0</td>\n",
              "      <td>8</td>\n",
              "      <td>0</td>\n",
              "      <td>2</td>\n",
              "      <td>0</td>\n",
              "      <td>0.0</td>\n",
              "    </tr>\n",
              "  </tbody>\n",
              "</table>\n",
              "<p>150000 rows × 12 columns</p>\n",
              "</div>\n",
              "      <button class=\"colab-df-convert\" onclick=\"convertToInteractive('df-a31cb610-ec18-4961-b3a2-d5af24a4ed26')\"\n",
              "              title=\"Convert this dataframe to an interactive table.\"\n",
              "              style=\"display:none;\">\n",
              "        \n",
              "  <svg xmlns=\"http://www.w3.org/2000/svg\" height=\"24px\"viewBox=\"0 0 24 24\"\n",
              "       width=\"24px\">\n",
              "    <path d=\"M0 0h24v24H0V0z\" fill=\"none\"/>\n",
              "    <path d=\"M18.56 5.44l.94 2.06.94-2.06 2.06-.94-2.06-.94-.94-2.06-.94 2.06-2.06.94zm-11 1L8.5 8.5l.94-2.06 2.06-.94-2.06-.94L8.5 2.5l-.94 2.06-2.06.94zm10 10l.94 2.06.94-2.06 2.06-.94-2.06-.94-.94-2.06-.94 2.06-2.06.94z\"/><path d=\"M17.41 7.96l-1.37-1.37c-.4-.4-.92-.59-1.43-.59-.52 0-1.04.2-1.43.59L10.3 9.45l-7.72 7.72c-.78.78-.78 2.05 0 2.83L4 21.41c.39.39.9.59 1.41.59.51 0 1.02-.2 1.41-.59l7.78-7.78 2.81-2.81c.8-.78.8-2.07 0-2.86zM5.41 20L4 18.59l7.72-7.72 1.47 1.35L5.41 20z\"/>\n",
              "  </svg>\n",
              "      </button>\n",
              "      \n",
              "  <style>\n",
              "    .colab-df-container {\n",
              "      display:flex;\n",
              "      flex-wrap:wrap;\n",
              "      gap: 12px;\n",
              "    }\n",
              "\n",
              "    .colab-df-convert {\n",
              "      background-color: #E8F0FE;\n",
              "      border: none;\n",
              "      border-radius: 50%;\n",
              "      cursor: pointer;\n",
              "      display: none;\n",
              "      fill: #1967D2;\n",
              "      height: 32px;\n",
              "      padding: 0 0 0 0;\n",
              "      width: 32px;\n",
              "    }\n",
              "\n",
              "    .colab-df-convert:hover {\n",
              "      background-color: #E2EBFA;\n",
              "      box-shadow: 0px 1px 2px rgba(60, 64, 67, 0.3), 0px 1px 3px 1px rgba(60, 64, 67, 0.15);\n",
              "      fill: #174EA6;\n",
              "    }\n",
              "\n",
              "    [theme=dark] .colab-df-convert {\n",
              "      background-color: #3B4455;\n",
              "      fill: #D2E3FC;\n",
              "    }\n",
              "\n",
              "    [theme=dark] .colab-df-convert:hover {\n",
              "      background-color: #434B5C;\n",
              "      box-shadow: 0px 1px 3px 1px rgba(0, 0, 0, 0.15);\n",
              "      filter: drop-shadow(0px 1px 2px rgba(0, 0, 0, 0.3));\n",
              "      fill: #FFFFFF;\n",
              "    }\n",
              "  </style>\n",
              "\n",
              "      <script>\n",
              "        const buttonEl =\n",
              "          document.querySelector('#df-a31cb610-ec18-4961-b3a2-d5af24a4ed26 button.colab-df-convert');\n",
              "        buttonEl.style.display =\n",
              "          google.colab.kernel.accessAllowed ? 'block' : 'none';\n",
              "\n",
              "        async function convertToInteractive(key) {\n",
              "          const element = document.querySelector('#df-a31cb610-ec18-4961-b3a2-d5af24a4ed26');\n",
              "          const dataTable =\n",
              "            await google.colab.kernel.invokeFunction('convertToInteractive',\n",
              "                                                     [key], {});\n",
              "          if (!dataTable) return;\n",
              "\n",
              "          const docLinkHtml = 'Like what you see? Visit the ' +\n",
              "            '<a target=\"_blank\" href=https://colab.research.google.com/notebooks/data_table.ipynb>data table notebook</a>'\n",
              "            + ' to learn more about interactive tables.';\n",
              "          element.innerHTML = '';\n",
              "          dataTable['output_type'] = 'display_data';\n",
              "          await google.colab.output.renderOutput(dataTable, element);\n",
              "          const docLink = document.createElement('div');\n",
              "          docLink.innerHTML = docLinkHtml;\n",
              "          element.appendChild(docLink);\n",
              "        }\n",
              "      </script>\n",
              "    </div>\n",
              "  </div>\n",
              "  "
            ]
          },
          "metadata": {},
          "execution_count": 7
        }
      ]
    },
    {
      "cell_type": "code",
      "metadata": {
        "colab": {
          "base_uri": "https://localhost:8080/",
          "height": 505
        },
        "id": "Q8aPZdt8Zemh",
        "outputId": "be262eb6-d2c4-4c31-ad10-85c4f0f93351"
      },
      "source": [
        "pd.read_csv(dataf, index_col=0)"
      ],
      "execution_count": 8,
      "outputs": [
        {
          "output_type": "execute_result",
          "data": {
            "text/plain": [
              "        SeriousDlqin2yrs  RevolvingUtilizationOfUnsecuredLines  age  \\\n",
              "1       1                 0.766127                              45    \n",
              "2       0                 0.957151                              40    \n",
              "3       0                 0.658180                              38    \n",
              "4       0                 0.233810                              30    \n",
              "5       0                 0.907239                              49    \n",
              "...    ..                      ...                              ..    \n",
              "149996  0                 0.040674                              74    \n",
              "149997  0                 0.299745                              44    \n",
              "149998  0                 0.246044                              58    \n",
              "149999  0                 0.000000                              30    \n",
              "150000  0                 0.850283                              64    \n",
              "\n",
              "        NumberOfTime30-59DaysPastDueNotWorse    DebtRatio  MonthlyIncome  \\\n",
              "1       2                                     0.802982     9120.0          \n",
              "2       0                                     0.121876     2600.0          \n",
              "3       1                                     0.085113     3042.0          \n",
              "4       0                                     0.036050     3300.0          \n",
              "5       1                                     0.024926     63588.0         \n",
              "...    ..                                          ...         ...         \n",
              "149996  0                                     0.225131     2100.0          \n",
              "149997  0                                     0.716562     5584.0          \n",
              "149998  0                                     3870.000000 NaN              \n",
              "149999  0                                     0.000000     5716.0          \n",
              "150000  0                                     0.249908     8158.0          \n",
              "\n",
              "        NumberOfOpenCreditLinesAndLoans  NumberOfTimes90DaysLate  \\\n",
              "1       13                               0                         \n",
              "2       4                                0                         \n",
              "3       2                                1                         \n",
              "4       5                                0                         \n",
              "5       7                                0                         \n",
              "...    ..                               ..                         \n",
              "149996  4                                0                         \n",
              "149997  4                                0                         \n",
              "149998  18                               0                         \n",
              "149999  4                                0                         \n",
              "150000  8                                0                         \n",
              "\n",
              "        NumberRealEstateLoansOrLines  NumberOfTime60-89DaysPastDueNotWorse  \\\n",
              "1       6                             0                                      \n",
              "2       0                             0                                      \n",
              "3       0                             0                                      \n",
              "4       0                             0                                      \n",
              "5       1                             0                                      \n",
              "...    ..                            ..                                      \n",
              "149996  1                             0                                      \n",
              "149997  1                             0                                      \n",
              "149998  1                             0                                      \n",
              "149999  0                             0                                      \n",
              "150000  2                             0                                      \n",
              "\n",
              "        NumberOfDependents  \n",
              "1       2.0                 \n",
              "2       1.0                 \n",
              "3       0.0                 \n",
              "4       0.0                 \n",
              "5       0.0                 \n",
              "...     ...                 \n",
              "149996  0.0                 \n",
              "149997  2.0                 \n",
              "149998  0.0                 \n",
              "149999  0.0                 \n",
              "150000  0.0                 \n",
              "\n",
              "[150000 rows x 11 columns]"
            ],
            "text/html": [
              "\n",
              "  <div id=\"df-6813b33a-29d2-4d07-9619-5e27c5f226af\">\n",
              "    <div class=\"colab-df-container\">\n",
              "      <div>\n",
              "<style scoped>\n",
              "    .dataframe tbody tr th:only-of-type {\n",
              "        vertical-align: middle;\n",
              "    }\n",
              "\n",
              "    .dataframe tbody tr th {\n",
              "        vertical-align: top;\n",
              "    }\n",
              "\n",
              "    .dataframe thead th {\n",
              "        text-align: right;\n",
              "    }\n",
              "</style>\n",
              "<table border=\"1\" class=\"dataframe\">\n",
              "  <thead>\n",
              "    <tr style=\"text-align: right;\">\n",
              "      <th></th>\n",
              "      <th>SeriousDlqin2yrs</th>\n",
              "      <th>RevolvingUtilizationOfUnsecuredLines</th>\n",
              "      <th>age</th>\n",
              "      <th>NumberOfTime30-59DaysPastDueNotWorse</th>\n",
              "      <th>DebtRatio</th>\n",
              "      <th>MonthlyIncome</th>\n",
              "      <th>NumberOfOpenCreditLinesAndLoans</th>\n",
              "      <th>NumberOfTimes90DaysLate</th>\n",
              "      <th>NumberRealEstateLoansOrLines</th>\n",
              "      <th>NumberOfTime60-89DaysPastDueNotWorse</th>\n",
              "      <th>NumberOfDependents</th>\n",
              "    </tr>\n",
              "  </thead>\n",
              "  <tbody>\n",
              "    <tr>\n",
              "      <th>1</th>\n",
              "      <td>1</td>\n",
              "      <td>0.766127</td>\n",
              "      <td>45</td>\n",
              "      <td>2</td>\n",
              "      <td>0.802982</td>\n",
              "      <td>9120.0</td>\n",
              "      <td>13</td>\n",
              "      <td>0</td>\n",
              "      <td>6</td>\n",
              "      <td>0</td>\n",
              "      <td>2.0</td>\n",
              "    </tr>\n",
              "    <tr>\n",
              "      <th>2</th>\n",
              "      <td>0</td>\n",
              "      <td>0.957151</td>\n",
              "      <td>40</td>\n",
              "      <td>0</td>\n",
              "      <td>0.121876</td>\n",
              "      <td>2600.0</td>\n",
              "      <td>4</td>\n",
              "      <td>0</td>\n",
              "      <td>0</td>\n",
              "      <td>0</td>\n",
              "      <td>1.0</td>\n",
              "    </tr>\n",
              "    <tr>\n",
              "      <th>3</th>\n",
              "      <td>0</td>\n",
              "      <td>0.658180</td>\n",
              "      <td>38</td>\n",
              "      <td>1</td>\n",
              "      <td>0.085113</td>\n",
              "      <td>3042.0</td>\n",
              "      <td>2</td>\n",
              "      <td>1</td>\n",
              "      <td>0</td>\n",
              "      <td>0</td>\n",
              "      <td>0.0</td>\n",
              "    </tr>\n",
              "    <tr>\n",
              "      <th>4</th>\n",
              "      <td>0</td>\n",
              "      <td>0.233810</td>\n",
              "      <td>30</td>\n",
              "      <td>0</td>\n",
              "      <td>0.036050</td>\n",
              "      <td>3300.0</td>\n",
              "      <td>5</td>\n",
              "      <td>0</td>\n",
              "      <td>0</td>\n",
              "      <td>0</td>\n",
              "      <td>0.0</td>\n",
              "    </tr>\n",
              "    <tr>\n",
              "      <th>5</th>\n",
              "      <td>0</td>\n",
              "      <td>0.907239</td>\n",
              "      <td>49</td>\n",
              "      <td>1</td>\n",
              "      <td>0.024926</td>\n",
              "      <td>63588.0</td>\n",
              "      <td>7</td>\n",
              "      <td>0</td>\n",
              "      <td>1</td>\n",
              "      <td>0</td>\n",
              "      <td>0.0</td>\n",
              "    </tr>\n",
              "    <tr>\n",
              "      <th>...</th>\n",
              "      <td>...</td>\n",
              "      <td>...</td>\n",
              "      <td>...</td>\n",
              "      <td>...</td>\n",
              "      <td>...</td>\n",
              "      <td>...</td>\n",
              "      <td>...</td>\n",
              "      <td>...</td>\n",
              "      <td>...</td>\n",
              "      <td>...</td>\n",
              "      <td>...</td>\n",
              "    </tr>\n",
              "    <tr>\n",
              "      <th>149996</th>\n",
              "      <td>0</td>\n",
              "      <td>0.040674</td>\n",
              "      <td>74</td>\n",
              "      <td>0</td>\n",
              "      <td>0.225131</td>\n",
              "      <td>2100.0</td>\n",
              "      <td>4</td>\n",
              "      <td>0</td>\n",
              "      <td>1</td>\n",
              "      <td>0</td>\n",
              "      <td>0.0</td>\n",
              "    </tr>\n",
              "    <tr>\n",
              "      <th>149997</th>\n",
              "      <td>0</td>\n",
              "      <td>0.299745</td>\n",
              "      <td>44</td>\n",
              "      <td>0</td>\n",
              "      <td>0.716562</td>\n",
              "      <td>5584.0</td>\n",
              "      <td>4</td>\n",
              "      <td>0</td>\n",
              "      <td>1</td>\n",
              "      <td>0</td>\n",
              "      <td>2.0</td>\n",
              "    </tr>\n",
              "    <tr>\n",
              "      <th>149998</th>\n",
              "      <td>0</td>\n",
              "      <td>0.246044</td>\n",
              "      <td>58</td>\n",
              "      <td>0</td>\n",
              "      <td>3870.000000</td>\n",
              "      <td>NaN</td>\n",
              "      <td>18</td>\n",
              "      <td>0</td>\n",
              "      <td>1</td>\n",
              "      <td>0</td>\n",
              "      <td>0.0</td>\n",
              "    </tr>\n",
              "    <tr>\n",
              "      <th>149999</th>\n",
              "      <td>0</td>\n",
              "      <td>0.000000</td>\n",
              "      <td>30</td>\n",
              "      <td>0</td>\n",
              "      <td>0.000000</td>\n",
              "      <td>5716.0</td>\n",
              "      <td>4</td>\n",
              "      <td>0</td>\n",
              "      <td>0</td>\n",
              "      <td>0</td>\n",
              "      <td>0.0</td>\n",
              "    </tr>\n",
              "    <tr>\n",
              "      <th>150000</th>\n",
              "      <td>0</td>\n",
              "      <td>0.850283</td>\n",
              "      <td>64</td>\n",
              "      <td>0</td>\n",
              "      <td>0.249908</td>\n",
              "      <td>8158.0</td>\n",
              "      <td>8</td>\n",
              "      <td>0</td>\n",
              "      <td>2</td>\n",
              "      <td>0</td>\n",
              "      <td>0.0</td>\n",
              "    </tr>\n",
              "  </tbody>\n",
              "</table>\n",
              "<p>150000 rows × 11 columns</p>\n",
              "</div>\n",
              "      <button class=\"colab-df-convert\" onclick=\"convertToInteractive('df-6813b33a-29d2-4d07-9619-5e27c5f226af')\"\n",
              "              title=\"Convert this dataframe to an interactive table.\"\n",
              "              style=\"display:none;\">\n",
              "        \n",
              "  <svg xmlns=\"http://www.w3.org/2000/svg\" height=\"24px\"viewBox=\"0 0 24 24\"\n",
              "       width=\"24px\">\n",
              "    <path d=\"M0 0h24v24H0V0z\" fill=\"none\"/>\n",
              "    <path d=\"M18.56 5.44l.94 2.06.94-2.06 2.06-.94-2.06-.94-.94-2.06-.94 2.06-2.06.94zm-11 1L8.5 8.5l.94-2.06 2.06-.94-2.06-.94L8.5 2.5l-.94 2.06-2.06.94zm10 10l.94 2.06.94-2.06 2.06-.94-2.06-.94-.94-2.06-.94 2.06-2.06.94z\"/><path d=\"M17.41 7.96l-1.37-1.37c-.4-.4-.92-.59-1.43-.59-.52 0-1.04.2-1.43.59L10.3 9.45l-7.72 7.72c-.78.78-.78 2.05 0 2.83L4 21.41c.39.39.9.59 1.41.59.51 0 1.02-.2 1.41-.59l7.78-7.78 2.81-2.81c.8-.78.8-2.07 0-2.86zM5.41 20L4 18.59l7.72-7.72 1.47 1.35L5.41 20z\"/>\n",
              "  </svg>\n",
              "      </button>\n",
              "      \n",
              "  <style>\n",
              "    .colab-df-container {\n",
              "      display:flex;\n",
              "      flex-wrap:wrap;\n",
              "      gap: 12px;\n",
              "    }\n",
              "\n",
              "    .colab-df-convert {\n",
              "      background-color: #E8F0FE;\n",
              "      border: none;\n",
              "      border-radius: 50%;\n",
              "      cursor: pointer;\n",
              "      display: none;\n",
              "      fill: #1967D2;\n",
              "      height: 32px;\n",
              "      padding: 0 0 0 0;\n",
              "      width: 32px;\n",
              "    }\n",
              "\n",
              "    .colab-df-convert:hover {\n",
              "      background-color: #E2EBFA;\n",
              "      box-shadow: 0px 1px 2px rgba(60, 64, 67, 0.3), 0px 1px 3px 1px rgba(60, 64, 67, 0.15);\n",
              "      fill: #174EA6;\n",
              "    }\n",
              "\n",
              "    [theme=dark] .colab-df-convert {\n",
              "      background-color: #3B4455;\n",
              "      fill: #D2E3FC;\n",
              "    }\n",
              "\n",
              "    [theme=dark] .colab-df-convert:hover {\n",
              "      background-color: #434B5C;\n",
              "      box-shadow: 0px 1px 3px 1px rgba(0, 0, 0, 0.15);\n",
              "      filter: drop-shadow(0px 1px 2px rgba(0, 0, 0, 0.3));\n",
              "      fill: #FFFFFF;\n",
              "    }\n",
              "  </style>\n",
              "\n",
              "      <script>\n",
              "        const buttonEl =\n",
              "          document.querySelector('#df-6813b33a-29d2-4d07-9619-5e27c5f226af button.colab-df-convert');\n",
              "        buttonEl.style.display =\n",
              "          google.colab.kernel.accessAllowed ? 'block' : 'none';\n",
              "\n",
              "        async function convertToInteractive(key) {\n",
              "          const element = document.querySelector('#df-6813b33a-29d2-4d07-9619-5e27c5f226af');\n",
              "          const dataTable =\n",
              "            await google.colab.kernel.invokeFunction('convertToInteractive',\n",
              "                                                     [key], {});\n",
              "          if (!dataTable) return;\n",
              "\n",
              "          const docLinkHtml = 'Like what you see? Visit the ' +\n",
              "            '<a target=\"_blank\" href=https://colab.research.google.com/notebooks/data_table.ipynb>data table notebook</a>'\n",
              "            + ' to learn more about interactive tables.';\n",
              "          element.innerHTML = '';\n",
              "          dataTable['output_type'] = 'display_data';\n",
              "          await google.colab.output.renderOutput(dataTable, element);\n",
              "          const docLink = document.createElement('div');\n",
              "          docLink.innerHTML = docLinkHtml;\n",
              "          element.appendChild(docLink);\n",
              "        }\n",
              "      </script>\n",
              "    </div>\n",
              "  </div>\n",
              "  "
            ]
          },
          "metadata": {},
          "execution_count": 8
        }
      ]
    },
    {
      "cell_type": "markdown",
      "metadata": {
        "id": "JzzbltXQZg4c"
      },
      "source": [
        "One can see that there are 150,000 rows and 11 columns in the dataframe"
      ]
    },
    {
      "cell_type": "markdown",
      "metadata": {
        "id": "Hdo1p0NIZk6p"
      },
      "source": [
        "## Type checking"
      ]
    },
    {
      "cell_type": "code",
      "metadata": {
        "colab": {
          "base_uri": "https://localhost:8080/"
        },
        "id": "r9COGO3HbcGz",
        "outputId": "7bff5212-25dc-4be3-9630-0da4b3d5c9d0"
      },
      "source": [
        "train = pd.read_csv(dataf, index_col=0)\n",
        "train.dtypes"
      ],
      "execution_count": 9,
      "outputs": [
        {
          "output_type": "execute_result",
          "data": {
            "text/plain": [
              "SeriousDlqin2yrs                        int64  \n",
              "RevolvingUtilizationOfUnsecuredLines    float64\n",
              "age                                     int64  \n",
              "NumberOfTime30-59DaysPastDueNotWorse    int64  \n",
              "DebtRatio                               float64\n",
              "MonthlyIncome                           float64\n",
              "NumberOfOpenCreditLinesAndLoans         int64  \n",
              "NumberOfTimes90DaysLate                 int64  \n",
              "NumberRealEstateLoansOrLines            int64  \n",
              "NumberOfTime60-89DaysPastDueNotWorse    int64  \n",
              "NumberOfDependents                      float64\n",
              "dtype: object"
            ]
          },
          "metadata": {},
          "execution_count": 9
        }
      ]
    },
    {
      "cell_type": "markdown",
      "metadata": {
        "id": "koTtMTKAbitn"
      },
      "source": [
        "All these types are perfectly compatible with the data description, `NumberOfDependents` excepted, which is supposed to have type `int` and has type `float`.\n",
        "\n",
        "Let us investigate why, looking at first rows"
      ]
    },
    {
      "cell_type": "code",
      "metadata": {
        "colab": {
          "base_uri": "https://localhost:8080/"
        },
        "id": "XirP9gVDbjWe",
        "outputId": "1b891938-28f6-4f87-cd64-a1e01ec425bf"
      },
      "source": [
        "train['NumberOfDependents'].head()"
      ],
      "execution_count": 10,
      "outputs": [
        {
          "output_type": "execute_result",
          "data": {
            "text/plain": [
              "1    2.0\n",
              "2    1.0\n",
              "3    0.0\n",
              "4    0.0\n",
              "5    0.0\n",
              "Name: NumberOfDependents, dtype: float64"
            ]
          },
          "metadata": {},
          "execution_count": 10
        }
      ]
    },
    {
      "cell_type": "markdown",
      "metadata": {
        "id": "WKO5HvjsbmrH"
      },
      "source": [
        "There seems to be a simple explanation: integers were appended a \".0\" suffix making them look like floating point numbers. Let us check this explanation on all data using the `value_counts` method"
      ]
    },
    {
      "cell_type": "code",
      "metadata": {
        "colab": {
          "base_uri": "https://localhost:8080/"
        },
        "id": "up0SyeD9bpny",
        "outputId": "2c25d360-5055-4f06-c1ca-144522c4347d"
      },
      "source": [
        "train['NumberOfDependents'].value_counts()"
      ],
      "execution_count": 11,
      "outputs": [
        {
          "output_type": "execute_result",
          "data": {
            "text/plain": [
              "0.0     86902\n",
              "1.0     26316\n",
              "2.0     19522\n",
              "3.0     9483 \n",
              "4.0     2862 \n",
              "5.0     746  \n",
              "6.0     158  \n",
              "7.0     51   \n",
              "8.0     24   \n",
              "10.0    5    \n",
              "9.0     5    \n",
              "20.0    1    \n",
              "13.0    1    \n",
              "Name: NumberOfDependents, dtype: int64"
            ]
          },
          "metadata": {},
          "execution_count": 11
        }
      ]
    },
    {
      "cell_type": "markdown",
      "metadata": {
        "id": "ikGxLT4ybshI"
      },
      "source": [
        "Pandas is able to automatically detect these cast opportunities:"
      ]
    },
    {
      "cell_type": "code",
      "metadata": {
        "id": "R1A-Eg5GbwZT"
      },
      "source": [
        "train = train.convert_dtypes()"
      ],
      "execution_count": 12,
      "outputs": []
    },
    {
      "cell_type": "markdown",
      "metadata": {
        "id": "lRKo1DtSbzkz"
      },
      "source": [
        "Since this type discrepancy `int` vs `float` did not have a strong impact on what follows, we could have as well ignored this issue. Let's check again types to be sure that everything looks fine now:"
      ]
    },
    {
      "cell_type": "code",
      "metadata": {
        "colab": {
          "base_uri": "https://localhost:8080/"
        },
        "id": "WyryEaHxb3P3",
        "outputId": "fb5d7c0d-3689-4c3b-db3f-b347246c0cc3"
      },
      "source": [
        "train.dtypes"
      ],
      "execution_count": 13,
      "outputs": [
        {
          "output_type": "execute_result",
          "data": {
            "text/plain": [
              "SeriousDlqin2yrs                        Int64  \n",
              "RevolvingUtilizationOfUnsecuredLines    Float64\n",
              "age                                     Int64  \n",
              "NumberOfTime30-59DaysPastDueNotWorse    Int64  \n",
              "DebtRatio                               Float64\n",
              "MonthlyIncome                           Int64  \n",
              "NumberOfOpenCreditLinesAndLoans         Int64  \n",
              "NumberOfTimes90DaysLate                 Int64  \n",
              "NumberRealEstateLoansOrLines            Int64  \n",
              "NumberOfTime60-89DaysPastDueNotWorse    Int64  \n",
              "NumberOfDependents                      Int64  \n",
              "dtype: object"
            ]
          },
          "metadata": {},
          "execution_count": 13
        }
      ]
    },
    {
      "cell_type": "markdown",
      "metadata": {
        "id": "FDR3UbScb583"
      },
      "source": [
        "## Missing data"
      ]
    },
    {
      "cell_type": "markdown",
      "metadata": {
        "id": "55gkd-15dkcG"
      },
      "source": [
        "We would like to know if there are some missing data. We can rely on the `count` method"
      ]
    },
    {
      "cell_type": "code",
      "metadata": {
        "colab": {
          "base_uri": "https://localhost:8080/"
        },
        "id": "4hJS91WKdnbn",
        "outputId": "d104ac22-7231-4073-b0c9-e116f8ba941f"
      },
      "source": [
        "train.shape"
      ],
      "execution_count": 14,
      "outputs": [
        {
          "output_type": "execute_result",
          "data": {
            "text/plain": [
              "(150000, 11)"
            ]
          },
          "metadata": {},
          "execution_count": 14
        }
      ]
    },
    {
      "cell_type": "code",
      "metadata": {
        "colab": {
          "base_uri": "https://localhost:8080/"
        },
        "id": "-kQk1yfJdqKl",
        "outputId": "665d0a1f-edac-4c00-e956-a53b301ff49c"
      },
      "source": [
        "train.count()"
      ],
      "execution_count": 15,
      "outputs": [
        {
          "output_type": "execute_result",
          "data": {
            "text/plain": [
              "SeriousDlqin2yrs                        150000\n",
              "RevolvingUtilizationOfUnsecuredLines    150000\n",
              "age                                     150000\n",
              "NumberOfTime30-59DaysPastDueNotWorse    150000\n",
              "DebtRatio                               150000\n",
              "MonthlyIncome                           120269\n",
              "NumberOfOpenCreditLinesAndLoans         150000\n",
              "NumberOfTimes90DaysLate                 150000\n",
              "NumberRealEstateLoansOrLines            150000\n",
              "NumberOfTime60-89DaysPastDueNotWorse    150000\n",
              "NumberOfDependents                      146076\n",
              "dtype: int64"
            ]
          },
          "metadata": {},
          "execution_count": 15
        }
      ]
    },
    {
      "cell_type": "markdown",
      "metadata": {
        "id": "A9oYSK4BdtcQ"
      },
      "source": [
        "We see that two columns have missing data: `MonthlyIncome` and `NumberOfDependents`"
      ]
    },
    {
      "cell_type": "markdown",
      "metadata": {
        "id": "qIIABdy0dygw"
      },
      "source": [
        "We will learn later various strategies that we can leverage to deal with missing data. In this session, we will not care."
      ]
    },
    {
      "cell_type": "markdown",
      "metadata": {
        "id": "HALtxh9Rd2N6"
      },
      "source": [
        "## Naive scoring"
      ]
    },
    {
      "cell_type": "markdown",
      "metadata": {
        "id": "Aw4P6ZkAe3nm"
      },
      "source": [
        "In order to submit our first entry, we will try to come up with a quick scoring strategy. Here, we do not aim at performance, we just want to close the loop from downloading the data to our first submit as quickly as possible.\n",
        "\n",
        "We first get the test dataset which we are supposed to score."
      ]
    },
    {
      "cell_type": "code",
      "metadata": {
        "id": "vckJVULXe8EF"
      },
      "source": [
        "test = pd.read_csv(os.path.join(datapath,'cs-test.csv'), index_col=0)"
      ],
      "execution_count": 16,
      "outputs": []
    },
    {
      "cell_type": "code",
      "metadata": {
        "colab": {
          "base_uri": "https://localhost:8080/"
        },
        "id": "repOBDCMe_gG",
        "outputId": "fd369c76-2b44-4f02-d3de-c60e7c72c547"
      },
      "source": [
        "print(\"Number of lines: {}\".format(test.shape[0]))\n",
        "test.count()"
      ],
      "execution_count": 17,
      "outputs": [
        {
          "output_type": "stream",
          "name": "stdout",
          "text": [
            "Number of lines: 101503\n"
          ]
        },
        {
          "output_type": "execute_result",
          "data": {
            "text/plain": [
              "SeriousDlqin2yrs                        0     \n",
              "RevolvingUtilizationOfUnsecuredLines    101503\n",
              "age                                     101503\n",
              "NumberOfTime30-59DaysPastDueNotWorse    101503\n",
              "DebtRatio                               101503\n",
              "MonthlyIncome                           81400 \n",
              "NumberOfOpenCreditLinesAndLoans         101503\n",
              "NumberOfTimes90DaysLate                 101503\n",
              "NumberRealEstateLoansOrLines            101503\n",
              "NumberOfTime60-89DaysPastDueNotWorse    101503\n",
              "NumberOfDependents                      98877 \n",
              "dtype: int64"
            ]
          },
          "metadata": {},
          "execution_count": 17
        }
      ]
    },
    {
      "cell_type": "markdown",
      "metadata": {
        "id": "W8ZN3V6FfB-4"
      },
      "source": [
        "Debt ratio is commonly used creterion by bankers to tell apart risky lines from low-risk lines. Here we try to use it as a raw score. With this scoring strategy, the highest the debt ratio, the highest the credit is at risk.\n",
        "\n",
        "Since there are no missing data in the `DebtRatio` column we can use it as is."
      ]
    },
    {
      "cell_type": "code",
      "metadata": {
        "id": "tfnW2krBfGT_"
      },
      "source": [
        "score = test['DebtRatio']"
      ],
      "execution_count": 18,
      "outputs": []
    },
    {
      "cell_type": "markdown",
      "metadata": {
        "id": "ahksZlZ9fLao"
      },
      "source": [
        "We do not want to take a hard decision: accept or reject but rather sort the lines from the less risky to the most risky, according to our score. This score can be seen as a *soft* decision."
      ]
    },
    {
      "cell_type": "markdown",
      "metadata": {
        "id": "Eqr9fY2cfMSl"
      },
      "source": [
        "In order to understand how we should format our entry, let us have a look at the provided sample `sampleEntry.csv`"
      ]
    },
    {
      "cell_type": "code",
      "metadata": {
        "colab": {
          "base_uri": "https://localhost:8080/"
        },
        "id": "1F6vnwNOfPMt",
        "outputId": "340814a9-5115-419f-f1ee-515709bf556a"
      },
      "source": [
        "!head sampleEntry.csv"
      ],
      "execution_count": 19,
      "outputs": [
        {
          "output_type": "stream",
          "name": "stdout",
          "text": [
            "Id,Probability\r\n",
            "1,0.080806647\r\n",
            "2,0.040718741\r\n",
            "3,0.011968341\r\n",
            "4,0.067639933\r\n",
            "5,0.108263859\r\n",
            "6,0.027519732\r\n",
            "7,0.04729395\r\n",
            "8,0.041027039\r\n",
            "9,0.00422303\r\n"
          ]
        }
      ]
    },
    {
      "cell_type": "markdown",
      "metadata": {
        "id": "4A7DOzWmfSzx"
      },
      "source": [
        "We see the header mentions a Probability, so we renormalize our score to have a score between 0 and 1."
      ]
    },
    {
      "cell_type": "code",
      "metadata": {
        "id": "zHeNVhwKfVku"
      },
      "source": [
        "prob = (score - score.min())/score.max()"
      ],
      "execution_count": 20,
      "outputs": []
    },
    {
      "cell_type": "code",
      "metadata": {
        "id": "IeQsfYbdfXij"
      },
      "source": [
        "prob.to_csv('naiveEntry.csv', index_label='Id', header=['Probability'])"
      ],
      "execution_count": 21,
      "outputs": []
    },
    {
      "cell_type": "code",
      "metadata": {
        "colab": {
          "base_uri": "https://localhost:8080/"
        },
        "id": "7WhVgu_EfaLp",
        "outputId": "0437bf1b-98b4-4827-a016-b9973507cfa8"
      },
      "source": [
        "!head naiveEntry.csv"
      ],
      "execution_count": 22,
      "outputs": [
        {
          "output_type": "stream",
          "name": "stdout",
          "text": [
            "Id,Probability\n",
            "1,6.615561555719534e-07\n",
            "2,1.964911816223549e-06\n",
            "3,2.562731610056424e-06\n",
            "4,3.4508792923533314e-06\n",
            "5,7.422771926686195e-08\n",
            "6,1.2761691561756967e-06\n",
            "7,0.003905696801651722\n",
            "8,1.375827165462907e-06\n",
            "9,0.0075430632886861505\n"
          ]
        }
      ]
    },
    {
      "cell_type": "code",
      "metadata": {
        "colab": {
          "base_uri": "https://localhost:8080/"
        },
        "id": "g-9u4EVGfdLy",
        "outputId": "4e0ce663-b6a9-46c3-8f80-539ac2c0c6a9"
      },
      "source": [
        "!kaggle competitions submit -f naiveEntry.csv -m \"Naive entry based on sole DebtRatio\" GiveMeSomeCredit"
      ],
      "execution_count": null,
      "outputs": [
        {
          "output_type": "stream",
          "text": [
            "Warning: Looks like you're using an outdated API Version, please consider updating (server 1.5.12 / client 1.5.4)\n",
            "100% 2.67M/2.67M [00:00<00:00, 10.3MB/s]\n",
            "Successfully submitted to Give Me Some Credit"
          ],
          "name": "stdout"
        }
      ]
    },
    {
      "cell_type": "code",
      "metadata": {
        "colab": {
          "base_uri": "https://localhost:8080/"
        },
        "id": "enwTULczfdrM",
        "outputId": "bbc26327-faad-4116-9c10-b326e8b79aa6"
      },
      "source": [
        "!kaggle competitions submissions GiveMeSomeCredit"
      ],
      "execution_count": null,
      "outputs": [
        {
          "output_type": "stream",
          "text": [
            "Warning: Looks like you're using an outdated API Version, please consider updating (server 1.5.12 / client 1.5.4)\n",
            "fileName                date                 description                                         status    publicScore  privateScore  \n",
            "----------------------  -------------------  --------------------------------------------------  --------  -----------  ------------  \n",
            "naiveEntry.csv          2021-07-07 11:38:03  Naive entry based on sole DebtRatio                 pending   None         None          \n",
            "boostingEntry.csv       2020-10-22 17:23:02  Entry based on boosting                             complete  0.86089      0.86684       \n",
            "logisticEntry.csv       2020-10-22 17:20:07  Entry based on logistic regression                  complete  0.70287      0.69674       \n",
            "logisticEntry.csv       2020-10-08 17:14:44  Entry based on logistic regression                  complete  0.70488      0.69831       \n",
            "blendingEntry.csv       2020-10-06 08:55:25  Entry based on a random forests and boosting blend  complete  0.86087      0.86666       \n",
            "randomforestsEntry.csv  2020-10-06 08:49:52  Entry based on random forests                       complete  0.83405      0.84315       \n",
            "randomforestsEntry.csv  2020-10-06 08:46:52  Entry based on random forests                       complete  0.83794      0.84357       \n",
            "boostingEntry.csv       2020-10-06 08:38:14  Entry based on boosting                             complete  0.86049      0.86619       \n",
            "logisticEntry.csv       2020-10-06 08:34:33  Entry based on logistic regression                  complete  0.70293      0.69679       \n",
            "blendingEntry.csv       2020-10-05 22:37:33  Entry based on a random forests and boosting blend  complete  0.86119      0.86756       \n",
            "randomforestsEntry.csv  2020-10-05 22:37:30  Entry based on random forests                       complete  0.83747      0.84482       \n",
            "boostingEntry.csv       2020-10-05 22:32:57  Entry based on boosting                             complete  0.85997      0.86692       \n",
            "logisticEntry.csv       2020-10-05 22:24:38  Entry based on logistic regression                  complete  0.70277      0.69662       \n",
            "blendingEntry.csv       2020-10-05 22:20:53  Entry based on a random forests and boosting blend  complete  0.86089      0.86749       \n",
            "randomforestsEntry.csv  2020-10-05 22:20:45  Entry based on random forests                       complete  0.83886      0.84293       \n",
            "boostingEntry.csv       2020-10-05 21:44:47  Entry based on boosting                             complete  0.86018      0.86694       \n",
            "boostingEntry.csv       2020-10-05 21:41:40  Entry based on boosting                             complete  0.86018      0.86694       \n",
            "logisticEntry.csv       2020-10-05 21:34:31  Entry based on logistic regression                  complete  0.70441      0.69768       \n",
            "logisticEntry.csv       2020-10-05 21:29:20  Entry based on logistic regression                  complete  0.70294      0.69680       \n",
            "logisticEntry.csv       2020-10-05 21:24:12  Entry based on logistic regression                  complete  0.70404      0.69728       \n",
            "logisticEntry.csv       2020-10-05 20:17:45  Entry based on logistic regression                  complete  0.70512      0.69863       \n",
            "logisticEntry.csv       2020-10-05 12:56:58  Entry based on logistic regression                  complete  0.68603      0.68276       \n",
            "logisticEntry.csv       2020-10-05 11:26:55  Entry based on logistic regression                  complete  0.68525      0.68320       \n",
            "naiveEntry.csv          2020-10-05 07:36:42  Naive entry based on sole DebtRatio                 complete  0.52192      0.52471       \n",
            "naiveEntry.csv          2020-10-05 07:28:40  Naive entry based on sole DebtRatio                 complete  0.52192      0.52471       \n",
            "logisticEntry.csv       2020-10-04 22:44:06  Entry based on logistic regression                  complete  0.68603      0.68276       \n",
            "logisticEntry.csv       2020-10-04 22:40:27  Entry based on logistic regression                  complete  0.68603      0.68276       \n",
            "naiveEntry.csv          2020-09-30 20:52:40  Naive entry based on sole DebtRatio                 complete  0.52192      0.52471       \n",
            "naiveEntry.csv          2020-09-24 16:43:35  Naive entry based on sole DebtRatio                 complete  0.52192      0.52471       \n",
            "naiveEntry.csv          2020-09-20 17:19:06  Naive entry based on sole DebtRatio                 complete  0.52192      0.52471       \n",
            "naiveEntry.csv          2020-09-20 16:18:32  Naive entry based on sole DebtRatio                 complete  0.52192      0.52471       \n",
            "naiveEntry.csv          2020-09-17 17:30:52  Naive entry based on sole DebtRatio                 complete  0.52192      0.52471       \n",
            "naiveEntry.csv          2020-09-16 16:49:16  Naive entry based on sole DebtRatio                 complete  0.52192      0.52471       \n",
            "naiveEntry.csv          2020-09-12 17:11:43  Naive entry based on sole DebtRatio                 complete  0.52192      0.52471       \n",
            "naiveEntry.csv          2020-09-11 19:56:19  Naive entry based on sole DebtRatio                 complete  0.52192      0.52471       \n",
            "naiveEntry.csv          2020-08-19 16:56:02  Naive entry based on sole DebtRatio                 complete  0.52192      0.52471       \n",
            "naiveEntry.csv          2020-08-19 16:40:49  Naive entry based on sole DebtRatio                 complete  0.52192      0.52471       \n",
            "naiveEntry.csv          2020-03-26 15:41:12  Naive entry based on sole DebtRatio                 complete  0.52192      0.52471       \n",
            "naiveEntry.csv          2019-11-14 19:30:51  Naive entry based on sole DebtRatio                 complete  0.52192      0.52471       \n",
            "blending.csv            2019-10-17 17:35:18  GBM-RF blending                                     complete  0.86098      0.86697       \n",
            "blending.csv            2019-10-17 15:44:46  GBM-RF blending                                     complete  0.86076      0.86680       \n",
            "gbm_preds.csv           2019-10-07 14:09:43  GBM                                                 complete  0.85913      0.86615       \n",
            "naiveEntry.csv          2019-10-07 07:42:51  Naive entry based on sole DebtRatio                 complete  0.52192      0.52471       \n",
            "naiveEntry.csv          2019-09-19 10:28:51  Naive entry based on sole DebtRatio                 complete  0.52192      0.52471       \n",
            "naiveEntry.csv          2019-09-19 10:22:02  Naive entry based on sole DebtRatio                 error     None         None          \n",
            "naiveEntry.csv          2019-09-19 10:20:02  Naive entry based on sole DebtRatio                 error     None         None          \n",
            "preds.csv               2017-08-23 14:22:28  None                                                complete  0.86097      0.86695       \n",
            "preds.csv               2017-08-23 14:08:12  None                                                complete  0.86124      0.86692       \n",
            "preds.csv               2017-08-23 13:57:35  None                                                complete  0.86119      0.86658       \n",
            "preds.csv               2017-08-23 13:36:44  None                                                complete  0.86111      0.86685       \n"
          ],
          "name": "stdout"
        }
      ]
    },
    {
      "cell_type": "markdown",
      "metadata": {
        "id": "jLuMfIOSfjAV"
      },
      "source": [
        "Well done! We have just submitted our first entry in this competition. Our `AUC` is $0.52192$. Is this a good AUC?\n",
        "\n",
        "Two ways to answer.\n",
        "\n",
        "First way is to look at our rank on the *leaderboard*: we are 900 among 924. Not so good -- but it is only a beginning, we will have other sessions, let us not loose faith (yet).\n",
        "\n",
        "Second is to understand AUC a little bit better. Let's do that now."
      ]
    },
    {
      "cell_type": "markdown",
      "metadata": {
        "id": "M8enKGoRz0md"
      },
      "source": [
        "# Supervised ML main concepts -- the binary classification case"
      ]
    },
    {
      "cell_type": "code",
      "source": [
        "import numpy as np\n",
        "import matplotlib.pyplot as plt"
      ],
      "metadata": {
        "id": "-bz4OU8HLJs1"
      },
      "execution_count": 29,
      "outputs": []
    },
    {
      "cell_type": "markdown",
      "metadata": {
        "id": "r3CRGg_90R3Q"
      },
      "source": [
        "## Terminology"
      ]
    },
    {
      "cell_type": "markdown",
      "metadata": {
        "id": "_Z-c3Dew1GZ8"
      },
      "source": [
        "The **training dataset** consists of $n$ couples $(x_i, y_i)$ where $1\\leq i\\leq n$ is an index and $n$ is the number of data points. Oftentimes, $x_i$ is called **feature** and $y_i$ is called **target**. All $x_i$ belongs to some common space $\\mathcal{X}$ called **feature space**, and likewise, all $y_i$ belong to some common space $\\mathcal{Y}$ expectedly called the **target space**."
      ]
    },
    {
      "cell_type": "code",
      "metadata": {
        "id": "OSnnFa441mPX"
      },
      "source": [
        "xtrain = train.iloc[:,1:]\n",
        "ytrain = train.iloc[:,0]"
      ],
      "execution_count": 23,
      "outputs": []
    },
    {
      "cell_type": "markdown",
      "metadata": {
        "id": "6LzGlbbW1NGR"
      },
      "source": [
        "Let's have a look at $x_1, \\dots, x_5$"
      ]
    },
    {
      "cell_type": "code",
      "metadata": {
        "colab": {
          "base_uri": "https://localhost:8080/",
          "height": 288
        },
        "id": "2GhmYlGH1t-W",
        "outputId": "0784f572-594b-4584-affb-46e46d8d841c"
      },
      "source": [
        "xtrain.head()"
      ],
      "execution_count": 24,
      "outputs": [
        {
          "output_type": "execute_result",
          "data": {
            "text/plain": [
              "   RevolvingUtilizationOfUnsecuredLines  age  \\\n",
              "1  0.766127                              45    \n",
              "2  0.957151                              40    \n",
              "3  0.65818                               38    \n",
              "4  0.23381                               30    \n",
              "5  0.907239                              49    \n",
              "\n",
              "   NumberOfTime30-59DaysPastDueNotWorse  DebtRatio  MonthlyIncome  \\\n",
              "1  2                                     0.802982   9120            \n",
              "2  0                                     0.121876   2600            \n",
              "3  1                                     0.085113   3042            \n",
              "4  0                                     0.03605    3300            \n",
              "5  1                                     0.024926   63588           \n",
              "\n",
              "   NumberOfOpenCreditLinesAndLoans  NumberOfTimes90DaysLate  \\\n",
              "1  13                               0                         \n",
              "2  4                                0                         \n",
              "3  2                                1                         \n",
              "4  5                                0                         \n",
              "5  7                                0                         \n",
              "\n",
              "   NumberRealEstateLoansOrLines  NumberOfTime60-89DaysPastDueNotWorse  \\\n",
              "1  6                             0                                      \n",
              "2  0                             0                                      \n",
              "3  0                             0                                      \n",
              "4  0                             0                                      \n",
              "5  1                             0                                      \n",
              "\n",
              "   NumberOfDependents  \n",
              "1  2                   \n",
              "2  1                   \n",
              "3  0                   \n",
              "4  0                   \n",
              "5  0                   "
            ],
            "text/html": [
              "\n",
              "  <div id=\"df-89fe8909-f91b-4723-b3cf-cca37a6b0bb2\">\n",
              "    <div class=\"colab-df-container\">\n",
              "      <div>\n",
              "<style scoped>\n",
              "    .dataframe tbody tr th:only-of-type {\n",
              "        vertical-align: middle;\n",
              "    }\n",
              "\n",
              "    .dataframe tbody tr th {\n",
              "        vertical-align: top;\n",
              "    }\n",
              "\n",
              "    .dataframe thead th {\n",
              "        text-align: right;\n",
              "    }\n",
              "</style>\n",
              "<table border=\"1\" class=\"dataframe\">\n",
              "  <thead>\n",
              "    <tr style=\"text-align: right;\">\n",
              "      <th></th>\n",
              "      <th>RevolvingUtilizationOfUnsecuredLines</th>\n",
              "      <th>age</th>\n",
              "      <th>NumberOfTime30-59DaysPastDueNotWorse</th>\n",
              "      <th>DebtRatio</th>\n",
              "      <th>MonthlyIncome</th>\n",
              "      <th>NumberOfOpenCreditLinesAndLoans</th>\n",
              "      <th>NumberOfTimes90DaysLate</th>\n",
              "      <th>NumberRealEstateLoansOrLines</th>\n",
              "      <th>NumberOfTime60-89DaysPastDueNotWorse</th>\n",
              "      <th>NumberOfDependents</th>\n",
              "    </tr>\n",
              "  </thead>\n",
              "  <tbody>\n",
              "    <tr>\n",
              "      <th>1</th>\n",
              "      <td>0.766127</td>\n",
              "      <td>45</td>\n",
              "      <td>2</td>\n",
              "      <td>0.802982</td>\n",
              "      <td>9120</td>\n",
              "      <td>13</td>\n",
              "      <td>0</td>\n",
              "      <td>6</td>\n",
              "      <td>0</td>\n",
              "      <td>2</td>\n",
              "    </tr>\n",
              "    <tr>\n",
              "      <th>2</th>\n",
              "      <td>0.957151</td>\n",
              "      <td>40</td>\n",
              "      <td>0</td>\n",
              "      <td>0.121876</td>\n",
              "      <td>2600</td>\n",
              "      <td>4</td>\n",
              "      <td>0</td>\n",
              "      <td>0</td>\n",
              "      <td>0</td>\n",
              "      <td>1</td>\n",
              "    </tr>\n",
              "    <tr>\n",
              "      <th>3</th>\n",
              "      <td>0.65818</td>\n",
              "      <td>38</td>\n",
              "      <td>1</td>\n",
              "      <td>0.085113</td>\n",
              "      <td>3042</td>\n",
              "      <td>2</td>\n",
              "      <td>1</td>\n",
              "      <td>0</td>\n",
              "      <td>0</td>\n",
              "      <td>0</td>\n",
              "    </tr>\n",
              "    <tr>\n",
              "      <th>4</th>\n",
              "      <td>0.23381</td>\n",
              "      <td>30</td>\n",
              "      <td>0</td>\n",
              "      <td>0.03605</td>\n",
              "      <td>3300</td>\n",
              "      <td>5</td>\n",
              "      <td>0</td>\n",
              "      <td>0</td>\n",
              "      <td>0</td>\n",
              "      <td>0</td>\n",
              "    </tr>\n",
              "    <tr>\n",
              "      <th>5</th>\n",
              "      <td>0.907239</td>\n",
              "      <td>49</td>\n",
              "      <td>1</td>\n",
              "      <td>0.024926</td>\n",
              "      <td>63588</td>\n",
              "      <td>7</td>\n",
              "      <td>0</td>\n",
              "      <td>1</td>\n",
              "      <td>0</td>\n",
              "      <td>0</td>\n",
              "    </tr>\n",
              "  </tbody>\n",
              "</table>\n",
              "</div>\n",
              "      <button class=\"colab-df-convert\" onclick=\"convertToInteractive('df-89fe8909-f91b-4723-b3cf-cca37a6b0bb2')\"\n",
              "              title=\"Convert this dataframe to an interactive table.\"\n",
              "              style=\"display:none;\">\n",
              "        \n",
              "  <svg xmlns=\"http://www.w3.org/2000/svg\" height=\"24px\"viewBox=\"0 0 24 24\"\n",
              "       width=\"24px\">\n",
              "    <path d=\"M0 0h24v24H0V0z\" fill=\"none\"/>\n",
              "    <path d=\"M18.56 5.44l.94 2.06.94-2.06 2.06-.94-2.06-.94-.94-2.06-.94 2.06-2.06.94zm-11 1L8.5 8.5l.94-2.06 2.06-.94-2.06-.94L8.5 2.5l-.94 2.06-2.06.94zm10 10l.94 2.06.94-2.06 2.06-.94-2.06-.94-.94-2.06-.94 2.06-2.06.94z\"/><path d=\"M17.41 7.96l-1.37-1.37c-.4-.4-.92-.59-1.43-.59-.52 0-1.04.2-1.43.59L10.3 9.45l-7.72 7.72c-.78.78-.78 2.05 0 2.83L4 21.41c.39.39.9.59 1.41.59.51 0 1.02-.2 1.41-.59l7.78-7.78 2.81-2.81c.8-.78.8-2.07 0-2.86zM5.41 20L4 18.59l7.72-7.72 1.47 1.35L5.41 20z\"/>\n",
              "  </svg>\n",
              "      </button>\n",
              "      \n",
              "  <style>\n",
              "    .colab-df-container {\n",
              "      display:flex;\n",
              "      flex-wrap:wrap;\n",
              "      gap: 12px;\n",
              "    }\n",
              "\n",
              "    .colab-df-convert {\n",
              "      background-color: #E8F0FE;\n",
              "      border: none;\n",
              "      border-radius: 50%;\n",
              "      cursor: pointer;\n",
              "      display: none;\n",
              "      fill: #1967D2;\n",
              "      height: 32px;\n",
              "      padding: 0 0 0 0;\n",
              "      width: 32px;\n",
              "    }\n",
              "\n",
              "    .colab-df-convert:hover {\n",
              "      background-color: #E2EBFA;\n",
              "      box-shadow: 0px 1px 2px rgba(60, 64, 67, 0.3), 0px 1px 3px 1px rgba(60, 64, 67, 0.15);\n",
              "      fill: #174EA6;\n",
              "    }\n",
              "\n",
              "    [theme=dark] .colab-df-convert {\n",
              "      background-color: #3B4455;\n",
              "      fill: #D2E3FC;\n",
              "    }\n",
              "\n",
              "    [theme=dark] .colab-df-convert:hover {\n",
              "      background-color: #434B5C;\n",
              "      box-shadow: 0px 1px 3px 1px rgba(0, 0, 0, 0.15);\n",
              "      filter: drop-shadow(0px 1px 2px rgba(0, 0, 0, 0.3));\n",
              "      fill: #FFFFFF;\n",
              "    }\n",
              "  </style>\n",
              "\n",
              "      <script>\n",
              "        const buttonEl =\n",
              "          document.querySelector('#df-89fe8909-f91b-4723-b3cf-cca37a6b0bb2 button.colab-df-convert');\n",
              "        buttonEl.style.display =\n",
              "          google.colab.kernel.accessAllowed ? 'block' : 'none';\n",
              "\n",
              "        async function convertToInteractive(key) {\n",
              "          const element = document.querySelector('#df-89fe8909-f91b-4723-b3cf-cca37a6b0bb2');\n",
              "          const dataTable =\n",
              "            await google.colab.kernel.invokeFunction('convertToInteractive',\n",
              "                                                     [key], {});\n",
              "          if (!dataTable) return;\n",
              "\n",
              "          const docLinkHtml = 'Like what you see? Visit the ' +\n",
              "            '<a target=\"_blank\" href=https://colab.research.google.com/notebooks/data_table.ipynb>data table notebook</a>'\n",
              "            + ' to learn more about interactive tables.';\n",
              "          element.innerHTML = '';\n",
              "          dataTable['output_type'] = 'display_data';\n",
              "          await google.colab.output.renderOutput(dataTable, element);\n",
              "          const docLink = document.createElement('div');\n",
              "          docLink.innerHTML = docLinkHtml;\n",
              "          element.appendChild(docLink);\n",
              "        }\n",
              "      </script>\n",
              "    </div>\n",
              "  </div>\n",
              "  "
            ]
          },
          "metadata": {},
          "execution_count": 24
        }
      ]
    },
    {
      "cell_type": "markdown",
      "metadata": {
        "id": "X7YcroqZ1wOR"
      },
      "source": [
        "So we see, that:\n",
        "$$\n",
        "\\begin{align}\n",
        "x_1 &= (0.766127, 45, 2, 0.802982, 9120.0, 13, 0, 6, 0, 2.0)&\\in\\mathbb{R}^{10}\\\\\n",
        "x_2 &= (0.957151, 40, 0, 0.121876, 2600.0, 4, 0, 0, 0, 1.0)&\\in\\mathbb{R}^{10}\\\\\n",
        "x_3 &= (0.658180, 38, 1, 0.085113, 3042.0, 2, 1, 0, 0, 0.0)&\\in\\mathbb{R}^{10}\\\\\n",
        "x_4 &= (0.233810, 30, 0, 0.036050, 3300.0, 5, 0, 0, 0, 0.0)&\\in\\mathbb{R}^{10}\\\\\n",
        "x_5 &= (0.907239, 49, 1, 0.024926, 63588.0, 7, 0, 1, 0, 0.0)&\\in\\mathbb{R}^{10}\n",
        "\\end{align}\n",
        "$$ "
      ]
    },
    {
      "cell_type": "markdown",
      "metadata": {
        "id": "jzJIZ41Q13d1"
      },
      "source": [
        "Here the feature space $\\mathcal{X}$ is $\\mathbb{R}^{10}$ and the target space $\\mathcal{Y}$ is $\\{0,1\\}$:"
      ]
    },
    {
      "cell_type": "code",
      "metadata": {
        "colab": {
          "base_uri": "https://localhost:8080/"
        },
        "id": "1bCtlwAq17fw",
        "outputId": "7701109a-3dd6-443d-b231-a738fa3391cf"
      },
      "source": [
        "ytrain.head()"
      ],
      "execution_count": 25,
      "outputs": [
        {
          "output_type": "execute_result",
          "data": {
            "text/plain": [
              "1    1\n",
              "2    0\n",
              "3    0\n",
              "4    0\n",
              "5    0\n",
              "Name: SeriousDlqin2yrs, dtype: Int64"
            ]
          },
          "metadata": {},
          "execution_count": 25
        }
      ]
    },
    {
      "cell_type": "markdown",
      "metadata": {
        "id": "IUxW5FkA1-d5"
      },
      "source": [
        "When $\\mathcal{Y}$:\n",
        "* is a finite set, we speak of a **classification train set**\n",
        "* is a set containing two elements, we speak of a **binary classification train set**\n",
        "* is contained in $\\mathbb{R}$, we speak of a **regression train set**\n",
        "\n",
        "Otherwise, we just speak of a **prediction train set** or just a **train set**. "
      ]
    },
    {
      "cell_type": "markdown",
      "metadata": {
        "id": "j5AfcSdx2Bfw"
      },
      "source": [
        "So here, with the [Give Me Some Credit](https://kaggle.com/c/GiveMeSomeCredit) competition, we have a **binary classification train set**."
      ]
    },
    {
      "cell_type": "markdown",
      "metadata": {
        "id": "uxzslZZi2GDX"
      },
      "source": [
        "A **data point** denotes the couple $(x,y)\\in\\mathcal{X}\\times\\mathcal{Y}$. Sometimes the space $\\mathcal{X}\\times\\mathcal{Y}$ is denoted $\\mathcal{Z}$ and is called the **data space**. So, formally, a training set is just an element of $\\mathcal{Z}^n$."
      ]
    },
    {
      "cell_type": "markdown",
      "metadata": {
        "id": "bOw4CaXM2JvR"
      },
      "source": [
        "A mapping\n",
        "$$h:\\mathcal{X}\\to\\mathcal{Y}$$ is called:\n",
        "- a **classifier**, for classification problems ($\\mathcal{Y}$ finite)\n",
        "- a **regressor**, for regression problems ($\\mathcal{Y}\\subset\\mathbb{R}$)\n",
        "- or simply a **predictor**, in the general case"
      ]
    },
    {
      "cell_type": "markdown",
      "metadata": {
        "id": "yG8rCYTrSljp"
      },
      "source": [
        "We will later why, but we will restrict ourselves and not use just any predictor. The predictor set $\\mathcal{H}$ we are allowed to use, is called a **model**. It's a different modelling act than in mathematical statistics where a model is a parametric family $\\mathbb{P}_\\theta$ of probability distributions."
      ]
    },
    {
      "cell_type": "markdown",
      "metadata": {
        "id": "0xaHETNCSrfJ"
      },
      "source": [
        "** Machine Learning vs. Mathematical Statistics digression **\n",
        "\n",
        "In machine learning, it is believed that there is a **underlying probability distribution** $\\mathbb{P}$ on the data space $\\mathcal{Z}$. It is also believed that this underlying probability distribution will never be known perfectly. Notice that, contrarily to mathematical statistics, this probability distribution is assumed to be *unique* and does not depend on any parameter. In machine learning, the parameter space, *i.e.* the model, is rather the set of predictors.\n",
        "\n",
        "** End of digression **"
      ]
    },
    {
      "cell_type": "markdown",
      "metadata": {
        "id": "I48L8BIDSvAS"
      },
      "source": [
        "***\n",
        "A very important assumption in machine learning is that: $z_i = (x_i,y_i)$ have been sampled **independently** from each other and are **identically distributed** according to $\\mathbb{P}$\n",
        "***"
      ]
    },
    {
      "cell_type": "markdown",
      "metadata": {
        "id": "8gIPOGNtSzem"
      },
      "source": [
        "## A powerful formalism"
      ]
    },
    {
      "cell_type": "markdown",
      "metadata": {
        "id": "mvA-lpEdYzfx"
      },
      "source": [
        "There are actually a lot of concrete problems that can be cast into this formalism.\n",
        "\n",
        "A few examples:\n",
        "  - Does an image contain a person?\n",
        "  - Does this mammography represents a tumor?\n",
        "  - Is this sentence an insult?\n",
        "  - What is the digit represented in this image?\n",
        "  - What category of product does this product description text corresponds to?\n",
        "  - What is the gross domestic product of France going to be next year?\n",
        "  - What is the probability that this user is going to click on this product?"
      ]
    },
    {
      "cell_type": "markdown",
      "metadata": {
        "id": "RmusQAA9ZKjF"
      },
      "source": [
        "## Loss and Risk"
      ]
    },
    {
      "cell_type": "markdown",
      "metadata": {
        "id": "NO7mvFEwZSe8"
      },
      "source": [
        "On what ground would some predictor be better than some other? Let's introduce an important concept: a **loss function** is any function:\n",
        "$$l:(y,y')\\in\\mathcal{Y}\\times\\mathcal{Y}\\mapsto l(y,y')\\in\\mathbb{R}$$"
      ]
    },
    {
      "cell_type": "markdown",
      "metadata": {
        "id": "ovioe3enZVF7"
      },
      "source": [
        "Popular examples include:\n",
        "- The Hamming/binary loss: $l(y,y') = \\begin{cases}0 &\\text{ if }y=y'\\\\ 1& \\text{ if }y\\not=y'\\end{cases}$\n",
        "- The so-called $\\ell^1$-loss: $l(y,y') = | y - y'|$ when $\\mathcal{Y}\\subset\\mathbb{R}$\n",
        "- The so-called quadratic loss: $l(y,y') = (y-y')^2$ when $\\mathcal{Y}\\subset\\mathbb{R}$"
      ]
    },
    {
      "cell_type": "markdown",
      "metadata": {
        "id": "kTl-n5EGZYLL"
      },
      "source": [
        "We can then introduce the **risk** associated to a predictor $h$, denoted $R(h)$:\n",
        "$$R(h) = \\mathbb{E}l(h(X),Y)$$"
      ]
    },
    {
      "cell_type": "markdown",
      "metadata": {
        "id": "YAbaStLCZb7E"
      },
      "source": [
        "And in the same vein, the risk associated to model $\\mathcal{H}$:\n",
        "$$R(\\mathcal{H}) = \\inf_{h\\in\\mathcal{H}}R(h)$$"
      ]
    },
    {
      "cell_type": "markdown",
      "metadata": {
        "id": "jYt7naOGZi2Y"
      },
      "source": [
        "***\n",
        "Important remark: Let's keep in mind that since $\\mathbb{P}$ is unknown, $R(h)$ is not accessible. It is a theoretical quantity that will not be computable in practice, but that will be key to understand **overfitting**\n",
        "***"
      ]
    },
    {
      "cell_type": "markdown",
      "metadata": {
        "id": "jCO2ovU-cMiF"
      },
      "source": [
        "A related quantity is the so-called **empirical risk**\n",
        "$$\\hat R_n(h) = \\frac1n\\sum_{i=1}^nl(h(x_i),y_i)$$"
      ]
    },
    {
      "cell_type": "markdown",
      "metadata": {
        "id": "RdJ6CTnJcQu3"
      },
      "source": [
        "Notice, that contrarily to $R(h)$, $\\hat R_n(h)$ is easy to compute in practice, provided $l$ is easy to compute and $n$ is not too large. If $n$ is very large, $\\hat R_n(h)$ might still computable thanks to *distributed computing* (ref. needed)"
      ]
    },
    {
      "cell_type": "markdown",
      "metadata": {
        "id": "TCIe02rgcURD"
      },
      "source": [
        "Likewise,\n",
        "$$\\hat R_n(\\mathcal{H}) = \\inf_{h\\in\\mathcal{H}}\\hat R_n(h)$$\n",
        "might be approximated in practice if $\\mathcal{H}$ is not too complex, thanks to optimization algorithms"
      ]
    },
    {
      "cell_type": "markdown",
      "metadata": {
        "id": "J4Um1Cg0cWrz"
      },
      "source": [
        "***\n",
        "Notice that if $l$ is the binary loss, then $\\hat R_n$ is simple to understand: it's simply the normalized number of predictions that are not perfect.\n",
        "***"
      ]
    },
    {
      "cell_type": "markdown",
      "metadata": {
        "id": "ObL-u2q6bzBK"
      },
      "source": [
        "## Soft classifiers and associated losses"
      ]
    },
    {
      "cell_type": "markdown",
      "metadata": {
        "id": "WQy-FXYLb_0f"
      },
      "source": [
        "In the context of binary classification, there are some situations when we are more interested in using a **soft** predictor:\n",
        "$$s:\\mathcal{X}\\to\\mathbb{R}$$\n",
        "than a **hard** one:\n",
        "$$h:\\mathcal{X}\\to\\mathcal{Y}=\\{0,1\\}$$"
      ]
    },
    {
      "cell_type": "markdown",
      "metadata": {
        "id": "U8X8d2Ssdhra"
      },
      "source": [
        "It is important to notice that it is always possible to transform a *soft* predictor into a *hard* one using a threshold:\n",
        "$$h_t(x) = \\begin{cases}\n",
        "0 & \\text{if } s(x)\\leq t\\\\\n",
        "1 & \\text{otherwise}\n",
        "\\end{cases}\n",
        "$$\n",
        "This mapping shows that $s$ can be mapped to a whole family of *hard* classifiers $\\{h_t: t\\in\\mathbb{R}\\}$. And reciprocally, it is not complicated to see that $s$ can actually be recovered from $\\{h_t: t\\in\\mathbb{R}\\}$ through:\n",
        "$$s(x) = \\sup\\{t: h_t(x) = 0\\}$$\n",
        "So there is a one to one mapping between $s$ and $\\{h_t: t\\in\\mathbb{R}\\}$.\n",
        "\n",
        "However, the mapping $s\\mapsto h_t$ for a *given* $t$ is *not* one to one. In general, there is a loss of information going from $s$ to some $h_t$. We cannot recover $s$ anymore, because we cannot deduce what would be the result of all other $h_{t'}$ for $t'\\not=t$. In other terms, there is a destruction of information when thresholding a soft classifier into a hard classifier.\n",
        "\n",
        "A natural way to measure the performance of $s$ therefore consists in choosing a threshold $t$ and using $l(h_t(x),y)$. As we saw, it is not fully satisfying since there is a loss of information when going from $s$ to $h_t$."
      ]
    },
    {
      "cell_type": "markdown",
      "metadata": {
        "id": "PvdXJkYdcsBz"
      },
      "source": [
        "Luckily, there are some loss functions that are well adapted to *soft* predictors in the sense that do not imply to choose a threshold $t$ and use $h_t$ instead of $s$."
      ]
    },
    {
      "cell_type": "markdown",
      "metadata": {
        "id": "vIQk3EsjhXHx"
      },
      "source": [
        "### Log-loss"
      ]
    },
    {
      "cell_type": "markdown",
      "metadata": {
        "id": "OiCHh21OhaP_"
      },
      "source": [
        "When $s:\\mathcal{X}\\to[0,1]$ can be thought of as a probability, one can use for instance the $\\log$-loss, **ll** that is the negative counterpart of the $\\log$-likelihood of statistics:\n",
        "$$ll(s) = -\\sum_{i=1}^n\\left[\\log(1-s(x_i))\\{y_i = 0\\} + \\log(s(x_i))\\{y_i = 1\\}\\right]$$"
      ]
    },
    {
      "cell_type": "markdown",
      "metadata": {
        "id": "y8PLgTxNihHk"
      },
      "source": [
        "### AUC"
      ]
    },
    {
      "cell_type": "markdown",
      "metadata": {
        "id": "nCSlI1Y2ikw1"
      },
      "source": [
        "See below, section \"Understanding the AUC\""
      ]
    },
    {
      "cell_type": "markdown",
      "metadata": {
        "id": "LU7u-yfsaF9-"
      },
      "source": [
        "## Overfitting"
      ]
    },
    {
      "cell_type": "markdown",
      "metadata": {
        "id": "IE4CXzQDaHys"
      },
      "source": [
        "The celebrated [law of large numbers](https://en.wikipedia.org/wiki/Law_of_large_numbers), tell us that $\\hat R_n(h)$ tends to $R(h)$ when $n$ tends to infinity. However, that does *not* imply that $\\hat R_n(\\mathcal{H})$ tends to $R(\\mathcal{H})$. Can you see why? [hint: expectation of an infimum is not always equal to infinimum of expectations]\n",
        "\n",
        "In other terms, it might not always be a good idea to look for the best predictor in the sense of minimizing the empirical risk if one has in mind minimizing the (true) risk."
      ]
    },
    {
      "cell_type": "markdown",
      "metadata": {
        "id": "A-RzwtoaacNO"
      },
      "source": [
        "Let's check that with a little mind experiment"
      ]
    },
    {
      "cell_type": "markdown",
      "metadata": {
        "id": "O3wzL1geadxz"
      },
      "source": [
        "### Example"
      ]
    },
    {
      "cell_type": "markdown",
      "metadata": {
        "id": "nL4xQPiNanqu"
      },
      "source": [
        "Assume that $X$ follows a [Gaussian distribution](https://en.wikipedia.org/wiki/Normal_distribution) and that *conditionally* to $X$, $Y$ follows a [Bernoulli distribution]() such that [*logistic model*]:\n",
        "$$\\mathbb{P}[Y=1\\vert X=x] = \\frac{\\exp x}{1 + \\exp x}$$"
      ]
    },
    {
      "cell_type": "code",
      "metadata": {
        "id": "xmCq9HBSaznn",
        "colab": {
          "base_uri": "https://localhost:8080/",
          "height": 265
        },
        "outputId": "ebe34ea7-0136-49ea-8471-a576455eb4a9"
      },
      "source": [
        "s = np.arange(-5,5,0.01)\n",
        "plt.plot(s, 1./(1+np.exp(-s)))\n",
        "\n",
        "# Images are centered\n",
        "from IPython.core.display import HTML\n",
        "HTML(\"\"\"\n",
        "<style>\n",
        ".output_png {\n",
        "    display: table-cell;\n",
        "    text-align: center;\n",
        "    vertical-align: middle;\n",
        "}\n",
        "</style>\n",
        "\"\"\")"
      ],
      "execution_count": 30,
      "outputs": [
        {
          "output_type": "execute_result",
          "data": {
            "text/plain": [
              "<IPython.core.display.HTML object>"
            ],
            "text/html": [
              "\n",
              "<style>\n",
              ".output_png {\n",
              "    display: table-cell;\n",
              "    text-align: center;\n",
              "    vertical-align: middle;\n",
              "}\n",
              "</style>\n"
            ]
          },
          "metadata": {},
          "execution_count": 30
        },
        {
          "output_type": "display_data",
          "data": {
            "text/plain": [
              "<Figure size 432x288 with 1 Axes>"
            ],
            "image/png": "[encoded data removed]"
          },
          "metadata": {
            "needs_background": "light"
          }
        }
      ]
    },
    {
      "cell_type": "code",
      "metadata": {
        "id": "M6b7Iwsya_jP",
        "colab": {
          "base_uri": "https://localhost:8080/",
          "height": 282
        },
        "outputId": "7c27372b-28cc-4fd5-8383-1d8b9e6e7e0c"
      },
      "source": [
        "n = 100\n",
        "\n",
        "def bool_to_int(y):\n",
        "    if y:\n",
        "        return 1\n",
        "    else:\n",
        "        return 0\n",
        "\n",
        "toy_sample_x = np.random.normal(size=n)\n",
        "toy_sample_y = [ bool_to_int(np.random.random() < 1/(1+np.exp(-x))) for x in toy_sample_x ]\n",
        "plt.plot(toy_sample_x, toy_sample_y, \"p\")"
      ],
      "execution_count": 31,
      "outputs": [
        {
          "output_type": "execute_result",
          "data": {
            "text/plain": [
              "[<matplotlib.lines.Line2D at 0x7fa8e6895d90>]"
            ]
          },
          "metadata": {},
          "execution_count": 31
        },
        {
          "output_type": "display_data",
          "data": {
            "text/plain": [
              "<Figure size 432x288 with 1 Axes>"
            ],
            "image/png": "[encoded data removed]"
          },
          "metadata": {
            "needs_background": "light"
          }
        }
      ]
    },
    {
      "cell_type": "markdown",
      "metadata": {
        "id": "eSDWzjX2bGGi"
      },
      "source": [
        "Now assume that $\\mathcal{H}$ is the set of all (measurable) functions $h:\\mathbb{R}\\to\\{0,1\\}$. Check that the minimum risk is achieved by the predictor:\n",
        "$$\n",
        "h^\\star(x):\\begin{cases}\n",
        "1&\\text{ if }x>0\\\\\n",
        "0&\\text{ otherwise }\n",
        "\\end{cases}\n",
        "$$"
      ]
    },
    {
      "cell_type": "markdown",
      "metadata": {
        "id": "jIXT2aSwbPlx"
      },
      "source": [
        "Check also that:\n",
        "$$R(\\mathcal{H}) = \\frac1{\\sqrt{2\\pi}}\\int_{-\\infty}^{\\infty}\\frac{\\exp(-x^2/2)}{1+\\exp(x)}dx > 0$$"
      ]
    },
    {
      "cell_type": "markdown",
      "metadata": {
        "id": "0ZSK9Hg_bRjy"
      },
      "source": [
        "But check that $\\hat R_n(\\mathcal{H}) = 0$."
      ]
    },
    {
      "cell_type": "markdown",
      "metadata": {
        "id": "EdhZzrtPvLuk"
      },
      "source": [
        "Exercise: Do the same computations with $\\mathcal{H}_{step} = \\{h_t: t\\in\\mathbb{R}\\}$ the set of step functions:\n",
        "\n",
        "$$h_t(x):\\begin{cases}\n",
        "1 & \\text{ if }x > t\\\\\n",
        "0 & \\text{ otherwise}\n",
        "\\end{cases}\n",
        "$$"
      ]
    },
    {
      "cell_type": "markdown",
      "metadata": {
        "id": "-1SyJGo9bW0-"
      },
      "source": [
        "Another way to look at this is to think about a **game** between some **Player** and **Nature**. Nature draws some sample iid according to some probability distribution $\\mathbb{P}$ and Player picks an $h\\in\\mathcal{H}$, then Player pays $\\hat R_n(h)$ to Nature. Depending on who plays first, the amount Player will pay to Nature will change. Are you convinced?"
      ]
    },
    {
      "cell_type": "markdown",
      "metadata": {
        "id": "IX6w7y_fbbGO"
      },
      "source": [
        "So what to do? One can try to bound the gap between $R(\\mathcal{H})$ and $\\hat R_n(\\mathcal{H})$ which is an important area of [Statistical Learning Theory](https://en.wikipedia.org/wiki/Statistical_learning_theory) linked to what is called [Model Selection](https://en.wikipedia.org/wiki/Model_selection).\n",
        "\n",
        "But more practically, one can rely on a very simple tool called **cross validation**"
      ]
    },
    {
      "cell_type": "markdown",
      "metadata": {
        "id": "bpo6h1KjbkBH"
      },
      "source": [
        "## Cross validation"
      ]
    },
    {
      "cell_type": "markdown",
      "metadata": {
        "id": "QwLKAMMau7AJ"
      },
      "source": [
        "![Cross Validation Figure](https://scikit-learn.org/stable/_images/grid_search_cross_validation.png)"
      ]
    },
    {
      "cell_type": "markdown",
      "metadata": {
        "id": "QL_KD04T6lcF"
      },
      "source": [
        "## Understanding the AUC"
      ]
    },
    {
      "cell_type": "markdown",
      "metadata": {
        "id": "CVDyrtWc6wyj"
      },
      "source": [
        "Looking at the [competition's evaluation page](https://www.kaggle.com/c/GiveMeSomeCredit/overview/evaluation) we can see that the evaluation metric is the so-called [AUC](https://en.wikipedia.org/wiki/Receiver_operating_characteristic#Area_under_the_curve).\n",
        "\n",
        "It might look like a daunting mathematical metric, but it's not as complicated as it looks"
      ]
    },
    {
      "cell_type": "markdown",
      "metadata": {
        "id": "TEQB282CxNxm"
      },
      "source": [
        "Recall that for each line of the `cs-test.csv` file, we uploaded a score, named *Probability*. This score might be seen as a *soft decision*, as opposed to a *hard decision* that would consist in uploading either $1$, *i.e.* is considered a risky line, or $0$, *i.e.* is not considered as a risky line.\n",
        "\n",
        "In other terms, rather than *directly deciding* which lines should be granted credit and which lines should not, we attributed them a *score*, that as it turns out, is a real number between $0$ and $1$ (but everything below would remain valid if it was any real number).\n",
        "\n",
        "Of course, once the scores are computed, a threshold could be set, and it could be decided that all lines having a score greater than the threshold would have their credit declined. Therefore, using a threshold, a *soft* decision can become a *hard* one.\n",
        "\n",
        "There are four types of  *hard* decisions:\n",
        "  - Decline a credit that defaulted -> *true positive*\n",
        "  - Accept a credit that went well -> *true negative*\n",
        "  - Decline a credit that went well -> *false positive*\n",
        "  - Accept a credit that defaulted -> *false negative*\n",
        "\n",
        "Once the scores are computed, for a given threshold, one can compute the number of false positives *F*, and the number of true positives *T*. If we known the total number of actual defaults *P* and the total number of actual credits that went well *N*, we can deduce the false negatives $P - T$ and true negatives $N - F$. Therefore, if we known $N$ and $P$, we can deduce the numbers associated to the four types of hard decisions from $F$ and $T$. Normalized quantities $\\frac{F}{N}$ and $\\frac{T}{P}$ are called respectively the *false positive rate* and the *true positive rate*. These normalized quantities contain all the information to retrieve the four types of numbers, *provided we know the total number of actual negatives and positives*.\n",
        "\n",
        "Now remember that in order to go from a soft decision to a hard one, we used a specific threshold. So if $t$ denotes the used threshold, we can plot the point:\n",
        "$$\\left(\\frac{F(t)}{N}, \\frac{T(t)}{P}\\right)$$\n",
        "where $F(t)$ and $T(t)$ denote respectively the number of false positive and true positive associated to threshold $t$.\n",
        "\n",
        "When the threshold vary from the minimum value ($0$ in this case since all the values are in $[0,1]$) to the maximum value ($1$ in this case), we obtain a *curve*: the so-called *Receiver Operating Characteristic* (ROC) curve.\n",
        "\n",
        "When $t$ is very high, there are no false positives since we need to be above $t$ to be declared positive, so $F(\\infty)=0$. For the same reason, there are no true positive neither, so $T(\\infty) = 0$. Reciprocally, one can check that $F(-\\infty) = 1$ and $T(-\\infty) = 1$. Actually, in our case we can restrict $t$ between $0$ and $1$, so $F(0) = T(0) = 1$ and $F(1) = T(1) = 0$. So the ROC curve goes from $(0,0)$ to $(1,1)$.\n",
        "\n",
        "Now imagine that all scores are distinct and sorted from the highest one to the lowest one. As long as the threshold $t$ is higher than the highest one, we have $F(t) = T(t) = 0$ and when $t$ is lower than the lowest one we have $F(t) = T(t) = 1$. One can check that after $t$ takes a value that corresponds exactly to a given score, the curve makes a \"jump\", *i.e.* has a discontinuity: if the given score corresponds to a positive case, the curve jumps \"up\", while if the given score corresponds to a negative case, the curve jumps \"right\".\n",
        "\n",
        "Somehow, there are three extreme *scenarii*, that are represented by three extreme ROC curves.\n"
      ]
    },
    {
      "cell_type": "markdown",
      "metadata": {
        "id": "7CrxJSQyLD3_"
      },
      "source": [
        "Scenario #1. \n"
      ]
    },
    {
      "cell_type": "markdown",
      "metadata": {
        "id": "ocVIvPL2EMJO"
      },
      "source": [
        "In this scenario, the ROC curve starts going up from $(0,0)$ to $(0,1)$, and then right from $(0,1)$ to $(1,1)$. Considering what we understood about the ROC curve going up or right, it implies that there is a critical threshold $t_c$ such that all cases having a score greater than $t_c$ are actually positive cases, and all cases having a score less or equal than $t_c$ are actually negative cases."
      ]
    },
    {
      "cell_type": "code",
      "metadata": {
        "id": "22O_CoDQLyd8",
        "colab": {
          "base_uri": "https://localhost:8080/",
          "height": 298
        },
        "outputId": "577d96ac-0ab9-4382-cc25-2672ec6c1263"
      },
      "source": [
        "plt.plot([0, 0, 1], [0, 1, 1])\n",
        "plt.title(\"Extreme ROC Curve #1\")\n",
        "print(\"Scenario #1\")"
      ],
      "execution_count": 32,
      "outputs": [
        {
          "output_type": "stream",
          "name": "stdout",
          "text": [
            "Scenario #1\n"
          ]
        },
        {
          "output_type": "display_data",
          "data": {
            "text/plain": [
              "<Figure size 432x288 with 1 Axes>"
            ],
            "image/png": "[encoded data removed]"
          },
          "metadata": {
            "needs_background": "light"
          }
        }
      ]
    },
    {
      "cell_type": "markdown",
      "metadata": {
        "id": "UAtp-DTWKoD1"
      },
      "source": [
        "This scenario is extreme in the sense that it implies that true positives are perfectly distinguishable from true negatives. This is never the case in practice."
      ]
    },
    {
      "cell_type": "markdown",
      "metadata": {
        "id": "SfYmZ0dzLsPV"
      },
      "source": [
        "Scenario #2.\n"
      ]
    },
    {
      "cell_type": "markdown",
      "metadata": {
        "id": "2sUbUkrfQfwo"
      },
      "source": [
        "This scenario is the symetrical twin of Scenario #1: ROC curve starts going right until it reaches $(1,0)$, and then up to $(1,1)$. It means that there exists a critical threshold $t_c$ such that all cases having a score greater than $t_c$ are negative cases. Those having a score less or equal than $t_c$ are positive cases."
      ]
    },
    {
      "cell_type": "code",
      "metadata": {
        "id": "tuG-xhFWRLOD",
        "colab": {
          "base_uri": "https://localhost:8080/",
          "height": 298
        },
        "outputId": "c624bb82-a1ec-44a1-f23d-ac8edb97c753"
      },
      "source": [
        "plt.plot([0, 1, 1], [0, 0, 1])\n",
        "plt.title(\"Extreme ROC Curve #2\")\n",
        "print(\"Scenario #2\")"
      ],
      "execution_count": 33,
      "outputs": [
        {
          "output_type": "stream",
          "name": "stdout",
          "text": [
            "Scenario #2\n"
          ]
        },
        {
          "output_type": "display_data",
          "data": {
            "text/plain": [
              "<Figure size 432x288 with 1 Axes>"
            ],
            "image/png": "[encoded data removed]"
          },
          "metadata": {
            "needs_background": "light"
          }
        }
      ]
    },
    {
      "cell_type": "markdown",
      "metadata": {
        "id": "Vi2SViAGYTFM"
      },
      "source": [
        "For the same reason than Scenario #1, it is unrealistic to assume that negative cases (in this example, credits that will be reimbursed as planned) can be perfectly predicted and distinguished from positive cases (in this example, credits that will not be reimbursed as planned).\n",
        "\n",
        "We would like to find a credit scoring such that: the highest its score is, the more likely a credit will likely encounter default. With this viewpoint, Scenario #1 is an ideal scenario where the scoring is so good that is can tell apart good credits from bad credits using a threshold $t_c$.\n",
        "\n",
        "Scenario #2 is also ideal for the same reason, except that we should have used the opposite of the score to rank credit demands."
      ]
    },
    {
      "cell_type": "markdown",
      "metadata": {
        "id": "VosMr7bbKg-6"
      },
      "source": [
        "Scenario #3."
      ]
    },
    {
      "cell_type": "markdown",
      "metadata": {
        "id": "IGjPUU0JaT0X"
      },
      "source": [
        "In this scenario, for half of the points, the ROC curve is going up, and for the other half, it is going right. Actually the proportion of points for which the ROC curve is going up is the positive rate (*i.e.* the proportion of positive cases). And likewise, the proportion of points for which the ROC curve is going right is the negative rate. So it is half only if there are as many positive cases as there are negative cases.\n",
        "\n",
        "\n",
        "As opposed to the previous two scenarios, this scenario could happen in practice. And the ROC curve would approximately look like this:"
      ]
    },
    {
      "cell_type": "code",
      "metadata": {
        "id": "ns_dagmBbv83",
        "colab": {
          "base_uri": "https://localhost:8080/",
          "height": 282
        },
        "outputId": "4d3b89e0-be2d-4a2c-8a17-276c3eae8456"
      },
      "source": [
        "n = 100\n",
        "x = np.linspace(0,1,n)\n",
        "y = np.random.binomial(1,0.5,size=n)\n",
        "plt.plot(x,np.cumsum(y)/sum(y))"
      ],
      "execution_count": 34,
      "outputs": [
        {
          "output_type": "execute_result",
          "data": {
            "text/plain": [
              "[<matplotlib.lines.Line2D at 0x7fa8e620df50>]"
            ]
          },
          "metadata": {},
          "execution_count": 34
        },
        {
          "output_type": "display_data",
          "data": {
            "text/plain": [
              "<Figure size 432x288 with 1 Axes>"
            ],
            "image/png": "[encoded data removed]"
          },
          "metadata": {
            "needs_background": "light"
          }
        }
      ]
    },
    {
      "cell_type": "markdown",
      "metadata": {
        "id": "pJtCRuIGE5XQ"
      },
      "source": [
        "![ROC Curve](https://scikit-learn.org/stable/_images/sphx_glr_plot_roc_001.png)"
      ]
    },
    {
      "cell_type": "markdown",
      "metadata": {
        "id": "0mMQT2ZjM0g7"
      },
      "source": [
        "AUC = 0.5 corresponds to a random classifier"
      ]
    }
  ]
}